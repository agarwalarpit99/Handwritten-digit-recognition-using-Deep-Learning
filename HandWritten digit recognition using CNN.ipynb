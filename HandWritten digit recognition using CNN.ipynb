{
  "nbformat": 4,
  "nbformat_minor": 0,
  "metadata": {
    "colab": {
      "name": "MNIST.ipynb",
      "provenance": [],
      "collapsed_sections": [],
      "mount_file_id": "1VE9gGkvgZJPr68cq-omSq2Zhv9JoYxOA",
      "authorship_tag": "ABX9TyM+4FxgdT1C6O6s5uoRl++A",
      "include_colab_link": true
    },
    "kernelspec": {
      "name": "python3",
      "display_name": "Python 3"
    },
    "accelerator": "GPU"
  },
  "cells": [
    {
      "cell_type": "markdown",
      "metadata": {
        "id": "view-in-github",
        "colab_type": "text"
      },
      "source": [
        "<a href=\"https://colab.research.google.com/github/agarwalarpit99/Handwritten-digit-recognition-using-Deep-Learning/blob/master/HandWritten%20digit%20recognition%20using%20CNN.ipynb\" target=\"_parent\"><img src=\"https://colab.research.google.com/assets/colab-badge.svg\" alt=\"Open In Colab\"/></a>"
      ]
    },
    {
      "cell_type": "code",
      "metadata": {
        "id": "BVzz6cNOFPE0",
        "colab_type": "code",
        "outputId": "9c84526b-ace5-4ed2-b7be-42c2f2a1a538",
        "colab": {
          "base_uri": "https://localhost:8080/",
          "height": 100
        }
      },
      "source": [
        "import pandas as pd\n",
        "import numpy as np\n",
        "import keras\n",
        "import matplotlib.pyplot as plt\n",
        "%matplotlib inline"
      ],
      "execution_count": 0,
      "outputs": [
        {
          "output_type": "stream",
          "text": [
            "Using TensorFlow backend.\n"
          ],
          "name": "stderr"
        },
        {
          "output_type": "display_data",
          "data": {
            "text/html": [
              "<p style=\"color: red;\">\n",
              "The default version of TensorFlow in Colab will soon switch to TensorFlow 2.x.<br>\n",
              "We recommend you <a href=\"https://www.tensorflow.org/guide/migrate\" target=\"_blank\">upgrade</a> now \n",
              "or ensure your notebook will continue to use TensorFlow 1.x via the <code>%tensorflow_version 1.x</code> magic:\n",
              "<a href=\"https://colab.research.google.com/notebooks/tensorflow_version.ipynb\" target=\"_blank\">more info</a>.</p>\n"
            ],
            "text/plain": [
              "<IPython.core.display.HTML object>"
            ]
          },
          "metadata": {
            "tags": []
          }
        }
      ]
    },
    {
      "cell_type": "code",
      "metadata": {
        "id": "wHUnNVDFFs-Q",
        "colab_type": "code",
        "colab": {}
      },
      "source": [
        "train=pd.read_csv('/content/drive/My Drive/COLAB FILES/Datasets/train.csv')\n",
        "test=pd.read_csv('/content/drive/My Drive/COLAB FILES/Datasets/test.csv')"
      ],
      "execution_count": 0,
      "outputs": []
    },
    {
      "cell_type": "code",
      "metadata": {
        "id": "uYkEZDR6JDAq",
        "colab_type": "code",
        "outputId": "e942b17a-03e6-4aa9-b000-150a8dd9f946",
        "colab": {
          "base_uri": "https://localhost:8080/",
          "height": 247
        }
      },
      "source": [
        "train.head()"
      ],
      "execution_count": 0,
      "outputs": [
        {
          "output_type": "execute_result",
          "data": {
            "text/html": [
              "<div>\n",
              "<style scoped>\n",
              "    .dataframe tbody tr th:only-of-type {\n",
              "        vertical-align: middle;\n",
              "    }\n",
              "\n",
              "    .dataframe tbody tr th {\n",
              "        vertical-align: top;\n",
              "    }\n",
              "\n",
              "    .dataframe thead th {\n",
              "        text-align: right;\n",
              "    }\n",
              "</style>\n",
              "<table border=\"1\" class=\"dataframe\">\n",
              "  <thead>\n",
              "    <tr style=\"text-align: right;\">\n",
              "      <th></th>\n",
              "      <th>label</th>\n",
              "      <th>pixel0</th>\n",
              "      <th>pixel1</th>\n",
              "      <th>pixel2</th>\n",
              "      <th>pixel3</th>\n",
              "      <th>pixel4</th>\n",
              "      <th>pixel5</th>\n",
              "      <th>pixel6</th>\n",
              "      <th>pixel7</th>\n",
              "      <th>pixel8</th>\n",
              "      <th>pixel9</th>\n",
              "      <th>pixel10</th>\n",
              "      <th>pixel11</th>\n",
              "      <th>pixel12</th>\n",
              "      <th>pixel13</th>\n",
              "      <th>pixel14</th>\n",
              "      <th>pixel15</th>\n",
              "      <th>pixel16</th>\n",
              "      <th>pixel17</th>\n",
              "      <th>pixel18</th>\n",
              "      <th>pixel19</th>\n",
              "      <th>pixel20</th>\n",
              "      <th>pixel21</th>\n",
              "      <th>pixel22</th>\n",
              "      <th>pixel23</th>\n",
              "      <th>pixel24</th>\n",
              "      <th>pixel25</th>\n",
              "      <th>pixel26</th>\n",
              "      <th>pixel27</th>\n",
              "      <th>pixel28</th>\n",
              "      <th>pixel29</th>\n",
              "      <th>pixel30</th>\n",
              "      <th>pixel31</th>\n",
              "      <th>pixel32</th>\n",
              "      <th>pixel33</th>\n",
              "      <th>pixel34</th>\n",
              "      <th>pixel35</th>\n",
              "      <th>pixel36</th>\n",
              "      <th>pixel37</th>\n",
              "      <th>pixel38</th>\n",
              "      <th>...</th>\n",
              "      <th>pixel744</th>\n",
              "      <th>pixel745</th>\n",
              "      <th>pixel746</th>\n",
              "      <th>pixel747</th>\n",
              "      <th>pixel748</th>\n",
              "      <th>pixel749</th>\n",
              "      <th>pixel750</th>\n",
              "      <th>pixel751</th>\n",
              "      <th>pixel752</th>\n",
              "      <th>pixel753</th>\n",
              "      <th>pixel754</th>\n",
              "      <th>pixel755</th>\n",
              "      <th>pixel756</th>\n",
              "      <th>pixel757</th>\n",
              "      <th>pixel758</th>\n",
              "      <th>pixel759</th>\n",
              "      <th>pixel760</th>\n",
              "      <th>pixel761</th>\n",
              "      <th>pixel762</th>\n",
              "      <th>pixel763</th>\n",
              "      <th>pixel764</th>\n",
              "      <th>pixel765</th>\n",
              "      <th>pixel766</th>\n",
              "      <th>pixel767</th>\n",
              "      <th>pixel768</th>\n",
              "      <th>pixel769</th>\n",
              "      <th>pixel770</th>\n",
              "      <th>pixel771</th>\n",
              "      <th>pixel772</th>\n",
              "      <th>pixel773</th>\n",
              "      <th>pixel774</th>\n",
              "      <th>pixel775</th>\n",
              "      <th>pixel776</th>\n",
              "      <th>pixel777</th>\n",
              "      <th>pixel778</th>\n",
              "      <th>pixel779</th>\n",
              "      <th>pixel780</th>\n",
              "      <th>pixel781</th>\n",
              "      <th>pixel782</th>\n",
              "      <th>pixel783</th>\n",
              "    </tr>\n",
              "  </thead>\n",
              "  <tbody>\n",
              "    <tr>\n",
              "      <th>0</th>\n",
              "      <td>1</td>\n",
              "      <td>0</td>\n",
              "      <td>0</td>\n",
              "      <td>0</td>\n",
              "      <td>0</td>\n",
              "      <td>0</td>\n",
              "      <td>0</td>\n",
              "      <td>0</td>\n",
              "      <td>0</td>\n",
              "      <td>0</td>\n",
              "      <td>0</td>\n",
              "      <td>0</td>\n",
              "      <td>0</td>\n",
              "      <td>0</td>\n",
              "      <td>0</td>\n",
              "      <td>0</td>\n",
              "      <td>0</td>\n",
              "      <td>0</td>\n",
              "      <td>0</td>\n",
              "      <td>0</td>\n",
              "      <td>0</td>\n",
              "      <td>0</td>\n",
              "      <td>0</td>\n",
              "      <td>0</td>\n",
              "      <td>0</td>\n",
              "      <td>0</td>\n",
              "      <td>0</td>\n",
              "      <td>0</td>\n",
              "      <td>0</td>\n",
              "      <td>0</td>\n",
              "      <td>0</td>\n",
              "      <td>0</td>\n",
              "      <td>0</td>\n",
              "      <td>0</td>\n",
              "      <td>0</td>\n",
              "      <td>0</td>\n",
              "      <td>0</td>\n",
              "      <td>0</td>\n",
              "      <td>0</td>\n",
              "      <td>0</td>\n",
              "      <td>...</td>\n",
              "      <td>0</td>\n",
              "      <td>0</td>\n",
              "      <td>0</td>\n",
              "      <td>0</td>\n",
              "      <td>0</td>\n",
              "      <td>0</td>\n",
              "      <td>0</td>\n",
              "      <td>0</td>\n",
              "      <td>0</td>\n",
              "      <td>0</td>\n",
              "      <td>0</td>\n",
              "      <td>0</td>\n",
              "      <td>0</td>\n",
              "      <td>0</td>\n",
              "      <td>0</td>\n",
              "      <td>0</td>\n",
              "      <td>0</td>\n",
              "      <td>0</td>\n",
              "      <td>0</td>\n",
              "      <td>0</td>\n",
              "      <td>0</td>\n",
              "      <td>0</td>\n",
              "      <td>0</td>\n",
              "      <td>0</td>\n",
              "      <td>0</td>\n",
              "      <td>0</td>\n",
              "      <td>0</td>\n",
              "      <td>0</td>\n",
              "      <td>0</td>\n",
              "      <td>0</td>\n",
              "      <td>0</td>\n",
              "      <td>0</td>\n",
              "      <td>0</td>\n",
              "      <td>0</td>\n",
              "      <td>0</td>\n",
              "      <td>0</td>\n",
              "      <td>0</td>\n",
              "      <td>0</td>\n",
              "      <td>0</td>\n",
              "      <td>0</td>\n",
              "    </tr>\n",
              "    <tr>\n",
              "      <th>1</th>\n",
              "      <td>0</td>\n",
              "      <td>0</td>\n",
              "      <td>0</td>\n",
              "      <td>0</td>\n",
              "      <td>0</td>\n",
              "      <td>0</td>\n",
              "      <td>0</td>\n",
              "      <td>0</td>\n",
              "      <td>0</td>\n",
              "      <td>0</td>\n",
              "      <td>0</td>\n",
              "      <td>0</td>\n",
              "      <td>0</td>\n",
              "      <td>0</td>\n",
              "      <td>0</td>\n",
              "      <td>0</td>\n",
              "      <td>0</td>\n",
              "      <td>0</td>\n",
              "      <td>0</td>\n",
              "      <td>0</td>\n",
              "      <td>0</td>\n",
              "      <td>0</td>\n",
              "      <td>0</td>\n",
              "      <td>0</td>\n",
              "      <td>0</td>\n",
              "      <td>0</td>\n",
              "      <td>0</td>\n",
              "      <td>0</td>\n",
              "      <td>0</td>\n",
              "      <td>0</td>\n",
              "      <td>0</td>\n",
              "      <td>0</td>\n",
              "      <td>0</td>\n",
              "      <td>0</td>\n",
              "      <td>0</td>\n",
              "      <td>0</td>\n",
              "      <td>0</td>\n",
              "      <td>0</td>\n",
              "      <td>0</td>\n",
              "      <td>0</td>\n",
              "      <td>...</td>\n",
              "      <td>0</td>\n",
              "      <td>0</td>\n",
              "      <td>0</td>\n",
              "      <td>0</td>\n",
              "      <td>0</td>\n",
              "      <td>0</td>\n",
              "      <td>0</td>\n",
              "      <td>0</td>\n",
              "      <td>0</td>\n",
              "      <td>0</td>\n",
              "      <td>0</td>\n",
              "      <td>0</td>\n",
              "      <td>0</td>\n",
              "      <td>0</td>\n",
              "      <td>0</td>\n",
              "      <td>0</td>\n",
              "      <td>0</td>\n",
              "      <td>0</td>\n",
              "      <td>0</td>\n",
              "      <td>0</td>\n",
              "      <td>0</td>\n",
              "      <td>0</td>\n",
              "      <td>0</td>\n",
              "      <td>0</td>\n",
              "      <td>0</td>\n",
              "      <td>0</td>\n",
              "      <td>0</td>\n",
              "      <td>0</td>\n",
              "      <td>0</td>\n",
              "      <td>0</td>\n",
              "      <td>0</td>\n",
              "      <td>0</td>\n",
              "      <td>0</td>\n",
              "      <td>0</td>\n",
              "      <td>0</td>\n",
              "      <td>0</td>\n",
              "      <td>0</td>\n",
              "      <td>0</td>\n",
              "      <td>0</td>\n",
              "      <td>0</td>\n",
              "    </tr>\n",
              "    <tr>\n",
              "      <th>2</th>\n",
              "      <td>1</td>\n",
              "      <td>0</td>\n",
              "      <td>0</td>\n",
              "      <td>0</td>\n",
              "      <td>0</td>\n",
              "      <td>0</td>\n",
              "      <td>0</td>\n",
              "      <td>0</td>\n",
              "      <td>0</td>\n",
              "      <td>0</td>\n",
              "      <td>0</td>\n",
              "      <td>0</td>\n",
              "      <td>0</td>\n",
              "      <td>0</td>\n",
              "      <td>0</td>\n",
              "      <td>0</td>\n",
              "      <td>0</td>\n",
              "      <td>0</td>\n",
              "      <td>0</td>\n",
              "      <td>0</td>\n",
              "      <td>0</td>\n",
              "      <td>0</td>\n",
              "      <td>0</td>\n",
              "      <td>0</td>\n",
              "      <td>0</td>\n",
              "      <td>0</td>\n",
              "      <td>0</td>\n",
              "      <td>0</td>\n",
              "      <td>0</td>\n",
              "      <td>0</td>\n",
              "      <td>0</td>\n",
              "      <td>0</td>\n",
              "      <td>0</td>\n",
              "      <td>0</td>\n",
              "      <td>0</td>\n",
              "      <td>0</td>\n",
              "      <td>0</td>\n",
              "      <td>0</td>\n",
              "      <td>0</td>\n",
              "      <td>0</td>\n",
              "      <td>...</td>\n",
              "      <td>0</td>\n",
              "      <td>0</td>\n",
              "      <td>0</td>\n",
              "      <td>0</td>\n",
              "      <td>0</td>\n",
              "      <td>0</td>\n",
              "      <td>0</td>\n",
              "      <td>0</td>\n",
              "      <td>0</td>\n",
              "      <td>0</td>\n",
              "      <td>0</td>\n",
              "      <td>0</td>\n",
              "      <td>0</td>\n",
              "      <td>0</td>\n",
              "      <td>0</td>\n",
              "      <td>0</td>\n",
              "      <td>0</td>\n",
              "      <td>0</td>\n",
              "      <td>0</td>\n",
              "      <td>0</td>\n",
              "      <td>0</td>\n",
              "      <td>0</td>\n",
              "      <td>0</td>\n",
              "      <td>0</td>\n",
              "      <td>0</td>\n",
              "      <td>0</td>\n",
              "      <td>0</td>\n",
              "      <td>0</td>\n",
              "      <td>0</td>\n",
              "      <td>0</td>\n",
              "      <td>0</td>\n",
              "      <td>0</td>\n",
              "      <td>0</td>\n",
              "      <td>0</td>\n",
              "      <td>0</td>\n",
              "      <td>0</td>\n",
              "      <td>0</td>\n",
              "      <td>0</td>\n",
              "      <td>0</td>\n",
              "      <td>0</td>\n",
              "    </tr>\n",
              "    <tr>\n",
              "      <th>3</th>\n",
              "      <td>4</td>\n",
              "      <td>0</td>\n",
              "      <td>0</td>\n",
              "      <td>0</td>\n",
              "      <td>0</td>\n",
              "      <td>0</td>\n",
              "      <td>0</td>\n",
              "      <td>0</td>\n",
              "      <td>0</td>\n",
              "      <td>0</td>\n",
              "      <td>0</td>\n",
              "      <td>0</td>\n",
              "      <td>0</td>\n",
              "      <td>0</td>\n",
              "      <td>0</td>\n",
              "      <td>0</td>\n",
              "      <td>0</td>\n",
              "      <td>0</td>\n",
              "      <td>0</td>\n",
              "      <td>0</td>\n",
              "      <td>0</td>\n",
              "      <td>0</td>\n",
              "      <td>0</td>\n",
              "      <td>0</td>\n",
              "      <td>0</td>\n",
              "      <td>0</td>\n",
              "      <td>0</td>\n",
              "      <td>0</td>\n",
              "      <td>0</td>\n",
              "      <td>0</td>\n",
              "      <td>0</td>\n",
              "      <td>0</td>\n",
              "      <td>0</td>\n",
              "      <td>0</td>\n",
              "      <td>0</td>\n",
              "      <td>0</td>\n",
              "      <td>0</td>\n",
              "      <td>0</td>\n",
              "      <td>0</td>\n",
              "      <td>0</td>\n",
              "      <td>...</td>\n",
              "      <td>0</td>\n",
              "      <td>0</td>\n",
              "      <td>0</td>\n",
              "      <td>0</td>\n",
              "      <td>0</td>\n",
              "      <td>0</td>\n",
              "      <td>0</td>\n",
              "      <td>0</td>\n",
              "      <td>0</td>\n",
              "      <td>0</td>\n",
              "      <td>0</td>\n",
              "      <td>0</td>\n",
              "      <td>0</td>\n",
              "      <td>0</td>\n",
              "      <td>0</td>\n",
              "      <td>0</td>\n",
              "      <td>0</td>\n",
              "      <td>0</td>\n",
              "      <td>0</td>\n",
              "      <td>0</td>\n",
              "      <td>0</td>\n",
              "      <td>0</td>\n",
              "      <td>0</td>\n",
              "      <td>0</td>\n",
              "      <td>0</td>\n",
              "      <td>0</td>\n",
              "      <td>0</td>\n",
              "      <td>0</td>\n",
              "      <td>0</td>\n",
              "      <td>0</td>\n",
              "      <td>0</td>\n",
              "      <td>0</td>\n",
              "      <td>0</td>\n",
              "      <td>0</td>\n",
              "      <td>0</td>\n",
              "      <td>0</td>\n",
              "      <td>0</td>\n",
              "      <td>0</td>\n",
              "      <td>0</td>\n",
              "      <td>0</td>\n",
              "    </tr>\n",
              "    <tr>\n",
              "      <th>4</th>\n",
              "      <td>0</td>\n",
              "      <td>0</td>\n",
              "      <td>0</td>\n",
              "      <td>0</td>\n",
              "      <td>0</td>\n",
              "      <td>0</td>\n",
              "      <td>0</td>\n",
              "      <td>0</td>\n",
              "      <td>0</td>\n",
              "      <td>0</td>\n",
              "      <td>0</td>\n",
              "      <td>0</td>\n",
              "      <td>0</td>\n",
              "      <td>0</td>\n",
              "      <td>0</td>\n",
              "      <td>0</td>\n",
              "      <td>0</td>\n",
              "      <td>0</td>\n",
              "      <td>0</td>\n",
              "      <td>0</td>\n",
              "      <td>0</td>\n",
              "      <td>0</td>\n",
              "      <td>0</td>\n",
              "      <td>0</td>\n",
              "      <td>0</td>\n",
              "      <td>0</td>\n",
              "      <td>0</td>\n",
              "      <td>0</td>\n",
              "      <td>0</td>\n",
              "      <td>0</td>\n",
              "      <td>0</td>\n",
              "      <td>0</td>\n",
              "      <td>0</td>\n",
              "      <td>0</td>\n",
              "      <td>0</td>\n",
              "      <td>0</td>\n",
              "      <td>0</td>\n",
              "      <td>0</td>\n",
              "      <td>0</td>\n",
              "      <td>0</td>\n",
              "      <td>...</td>\n",
              "      <td>0</td>\n",
              "      <td>0</td>\n",
              "      <td>0</td>\n",
              "      <td>0</td>\n",
              "      <td>0</td>\n",
              "      <td>0</td>\n",
              "      <td>0</td>\n",
              "      <td>0</td>\n",
              "      <td>0</td>\n",
              "      <td>0</td>\n",
              "      <td>0</td>\n",
              "      <td>0</td>\n",
              "      <td>0</td>\n",
              "      <td>0</td>\n",
              "      <td>0</td>\n",
              "      <td>0</td>\n",
              "      <td>0</td>\n",
              "      <td>0</td>\n",
              "      <td>0</td>\n",
              "      <td>0</td>\n",
              "      <td>0</td>\n",
              "      <td>0</td>\n",
              "      <td>0</td>\n",
              "      <td>0</td>\n",
              "      <td>0</td>\n",
              "      <td>0</td>\n",
              "      <td>0</td>\n",
              "      <td>0</td>\n",
              "      <td>0</td>\n",
              "      <td>0</td>\n",
              "      <td>0</td>\n",
              "      <td>0</td>\n",
              "      <td>0</td>\n",
              "      <td>0</td>\n",
              "      <td>0</td>\n",
              "      <td>0</td>\n",
              "      <td>0</td>\n",
              "      <td>0</td>\n",
              "      <td>0</td>\n",
              "      <td>0</td>\n",
              "    </tr>\n",
              "  </tbody>\n",
              "</table>\n",
              "<p>5 rows × 785 columns</p>\n",
              "</div>"
            ],
            "text/plain": [
              "   label  pixel0  pixel1  pixel2  ...  pixel780  pixel781  pixel782  pixel783\n",
              "0      1       0       0       0  ...         0         0         0         0\n",
              "1      0       0       0       0  ...         0         0         0         0\n",
              "2      1       0       0       0  ...         0         0         0         0\n",
              "3      4       0       0       0  ...         0         0         0         0\n",
              "4      0       0       0       0  ...         0         0         0         0\n",
              "\n",
              "[5 rows x 785 columns]"
            ]
          },
          "metadata": {
            "tags": []
          },
          "execution_count": 3
        }
      ]
    },
    {
      "cell_type": "code",
      "metadata": {
        "id": "EuseB7_9HYdH",
        "colab_type": "code",
        "outputId": "f501b186-c8e9-4d3d-a909-ad765cd53544",
        "colab": {
          "base_uri": "https://localhost:8080/",
          "height": 35
        }
      },
      "source": [
        "train.shape"
      ],
      "execution_count": 0,
      "outputs": [
        {
          "output_type": "execute_result",
          "data": {
            "text/plain": [
              "(42000, 785)"
            ]
          },
          "metadata": {
            "tags": []
          },
          "execution_count": 4
        }
      ]
    },
    {
      "cell_type": "code",
      "metadata": {
        "id": "Wq2J3K1aLv8U",
        "colab_type": "code",
        "colab": {}
      },
      "source": [
        "Y=train['label']\n",
        "X=train.drop('label',axis=1)"
      ],
      "execution_count": 0,
      "outputs": []
    },
    {
      "cell_type": "code",
      "metadata": {
        "id": "5SnVoFRMK5HB",
        "colab_type": "code",
        "colab": {}
      },
      "source": [
        "ytrain=Y.values\n",
        "xtrain=X.values"
      ],
      "execution_count": 0,
      "outputs": []
    },
    {
      "cell_type": "code",
      "metadata": {
        "id": "PUAH-6r2Mkml",
        "colab_type": "code",
        "colab": {}
      },
      "source": [
        "test=test.values"
      ],
      "execution_count": 0,
      "outputs": []
    },
    {
      "cell_type": "code",
      "metadata": {
        "id": "nQ8ZTTOVHvYE",
        "colab_type": "code",
        "outputId": "4ca42391-b479-46b6-df86-5db547c6cd46",
        "colab": {
          "base_uri": "https://localhost:8080/",
          "height": 1000
        }
      },
      "source": [
        "xtrain[0]"
      ],
      "execution_count": 0,
      "outputs": [
        {
          "output_type": "execute_result",
          "data": {
            "text/plain": [
              "array([  0,   0,   0,   0,   0,   0,   0,   0,   0,   0,   0,   0,   0,\n",
              "         0,   0,   0,   0,   0,   0,   0,   0,   0,   0,   0,   0,   0,\n",
              "         0,   0,   0,   0,   0,   0,   0,   0,   0,   0,   0,   0,   0,\n",
              "         0,   0,   0,   0,   0,   0,   0,   0,   0,   0,   0,   0,   0,\n",
              "         0,   0,   0,   0,   0,   0,   0,   0,   0,   0,   0,   0,   0,\n",
              "         0,   0,   0,   0,   0,   0,   0,   0,   0,   0,   0,   0,   0,\n",
              "         0,   0,   0,   0,   0,   0,   0,   0,   0,   0,   0,   0,   0,\n",
              "         0,   0,   0,   0,   0,   0,   0,   0,   0,   0,   0,   0,   0,\n",
              "         0,   0,   0,   0,   0,   0,   0,   0,   0,   0,   0,   0,   0,\n",
              "         0,   0,   0,   0,   0,   0,   0,   0,   0,   0,   0,   0,   0,\n",
              "         0,   0, 188, 255,  94,   0,   0,   0,   0,   0,   0,   0,   0,\n",
              "         0,   0,   0,   0,   0,   0,   0,   0,   0,   0,   0,   0,   0,\n",
              "         0,   0,   0, 191, 250, 253,  93,   0,   0,   0,   0,   0,   0,\n",
              "         0,   0,   0,   0,   0,   0,   0,   0,   0,   0,   0,   0,   0,\n",
              "         0,   0,   0,   0, 123, 248, 253, 167,  10,   0,   0,   0,   0,\n",
              "         0,   0,   0,   0,   0,   0,   0,   0,   0,   0,   0,   0,   0,\n",
              "         0,   0,   0,   0,   0,  80, 247, 253, 208,  13,   0,   0,   0,\n",
              "         0,   0,   0,   0,   0,   0,   0,   0,   0,   0,   0,   0,   0,\n",
              "         0,   0,   0,   0,   0,   0,  29, 207, 253, 235,  77,   0,   0,\n",
              "         0,   0,   0,   0,   0,   0,   0,   0,   0,   0,   0,   0,   0,\n",
              "         0,   0,   0,   0,   0,   0,   0,  54, 209, 253, 253,  88,   0,\n",
              "         0,   0,   0,   0,   0,   0,   0,   0,   0,   0,   0,   0,   0,\n",
              "         0,   0,   0,   0,   0,   0,   0,   0,  93, 254, 253, 238, 170,\n",
              "        17,   0,   0,   0,   0,   0,   0,   0,   0,   0,   0,   0,   0,\n",
              "         0,   0,   0,   0,   0,   0,   0,   0,   0,  23, 210, 254, 253,\n",
              "       159,   0,   0,   0,   0,   0,   0,   0,   0,   0,   0,   0,   0,\n",
              "         0,   0,   0,   0,   0,   0,   0,   0,   0,   0,  16, 209, 253,\n",
              "       254, 240,  81,   0,   0,   0,   0,   0,   0,   0,   0,   0,   0,\n",
              "         0,   0,   0,   0,   0,   0,   0,   0,   0,   0,   0,   0,  27,\n",
              "       253, 253, 254,  13,   0,   0,   0,   0,   0,   0,   0,   0,   0,\n",
              "         0,   0,   0,   0,   0,   0,   0,   0,   0,   0,   0,   0,   0,\n",
              "        20, 206, 254, 254, 198,   7,   0,   0,   0,   0,   0,   0,   0,\n",
              "         0,   0,   0,   0,   0,   0,   0,   0,   0,   0,   0,   0,   0,\n",
              "         0,   0, 168, 253, 253, 196,   7,   0,   0,   0,   0,   0,   0,\n",
              "         0,   0,   0,   0,   0,   0,   0,   0,   0,   0,   0,   0,   0,\n",
              "         0,   0,   0,  20, 203, 253, 248,  76,   0,   0,   0,   0,   0,\n",
              "         0,   0,   0,   0,   0,   0,   0,   0,   0,   0,   0,   0,   0,\n",
              "         0,   0,   0,   0,  22, 188, 253, 245,  93,   0,   0,   0,   0,\n",
              "         0,   0,   0,   0,   0,   0,   0,   0,   0,   0,   0,   0,   0,\n",
              "         0,   0,   0,   0,   0,   0, 103, 253, 253, 191,   0,   0,   0,\n",
              "         0,   0,   0,   0,   0,   0,   0,   0,   0,   0,   0,   0,   0,\n",
              "         0,   0,   0,   0,   0,   0,   0,  89, 240, 253, 195,  25,   0,\n",
              "         0,   0,   0,   0,   0,   0,   0,   0,   0,   0,   0,   0,   0,\n",
              "         0,   0,   0,   0,   0,   0,   0,   0,  15, 220, 253, 253,  80,\n",
              "         0,   0,   0,   0,   0,   0,   0,   0,   0,   0,   0,   0,   0,\n",
              "         0,   0,   0,   0,   0,   0,   0,   0,   0,   0,  94, 253, 253,\n",
              "       253,  94,   0,   0,   0,   0,   0,   0,   0,   0,   0,   0,   0,\n",
              "         0,   0,   0,   0,   0,   0,   0,   0,   0,   0,   0,   0,  89,\n",
              "       251, 253, 250, 131,   0,   0,   0,   0,   0,   0,   0,   0,   0,\n",
              "         0,   0,   0,   0,   0,   0,   0,   0,   0,   0,   0,   0,   0,\n",
              "         0,   0, 214, 218,  95,   0,   0,   0,   0,   0,   0,   0,   0,\n",
              "         0,   0,   0,   0,   0,   0,   0,   0,   0,   0,   0,   0,   0,\n",
              "         0,   0,   0,   0,   0,   0,   0,   0,   0,   0,   0,   0,   0,\n",
              "         0,   0,   0,   0,   0,   0,   0,   0,   0,   0,   0,   0,   0,\n",
              "         0,   0,   0,   0,   0,   0,   0,   0,   0,   0,   0,   0,   0,\n",
              "         0,   0,   0,   0,   0,   0,   0,   0,   0,   0,   0,   0,   0,\n",
              "         0,   0,   0,   0,   0,   0,   0,   0,   0,   0,   0,   0,   0,\n",
              "         0,   0,   0,   0,   0,   0,   0,   0,   0,   0,   0,   0,   0,\n",
              "         0,   0,   0,   0,   0,   0,   0,   0,   0,   0,   0,   0,   0,\n",
              "         0,   0,   0,   0,   0,   0,   0,   0,   0,   0,   0,   0,   0,\n",
              "         0,   0,   0,   0])"
            ]
          },
          "metadata": {
            "tags": []
          },
          "execution_count": 28
        }
      ]
    },
    {
      "cell_type": "code",
      "metadata": {
        "id": "WGrIaN3aHcOP",
        "colab_type": "code",
        "colab": {}
      },
      "source": [
        "xtrain=xtrain/255.0\n",
        "test=test/255.0"
      ],
      "execution_count": 0,
      "outputs": []
    },
    {
      "cell_type": "code",
      "metadata": {
        "id": "5LKhQObhK0D9",
        "colab_type": "code",
        "colab": {}
      },
      "source": [
        ""
      ],
      "execution_count": 0,
      "outputs": []
    },
    {
      "cell_type": "code",
      "metadata": {
        "id": "7xLckLkMHlNl",
        "colab_type": "code",
        "outputId": "b3dc641e-dd41-4afe-92d2-c7797b78c830",
        "colab": {
          "base_uri": "https://localhost:8080/",
          "height": 283
        }
      },
      "source": [
        "plt.imshow(xtrain[7].reshape(28,28))\n",
        "plt.show()\n",
        "ytrain[7]"
      ],
      "execution_count": 0,
      "outputs": [
        {
          "output_type": "display_data",
          "data": {
            "image/png": "[encoded data removed]",
            "text/plain": [
              "<Figure size 432x288 with 1 Axes>"
            ]
          },
          "metadata": {
            "tags": []
          }
        },
        {
          "output_type": "execute_result",
          "data": {
            "text/plain": [
              "3"
            ]
          },
          "metadata": {
            "tags": []
          },
          "execution_count": 8
        }
      ]
    },
    {
      "cell_type": "code",
      "metadata": {
        "id": "3PkBXPxwM8nj",
        "colab_type": "code",
        "outputId": "4b5caa64-86bd-41f1-d389-c04068d4f55a",
        "colab": {
          "base_uri": "https://localhost:8080/",
          "height": 35
        }
      },
      "source": [
        "xtrain.shape"
      ],
      "execution_count": 0,
      "outputs": [
        {
          "output_type": "execute_result",
          "data": {
            "text/plain": [
              "(42000, 784)"
            ]
          },
          "metadata": {
            "tags": []
          },
          "execution_count": 34
        }
      ]
    },
    {
      "cell_type": "code",
      "metadata": {
        "id": "FKoeKKGNNCAI",
        "colab_type": "code",
        "colab": {}
      },
      "source": [
        "from keras.utils import to_categorical\n",
        "ytrain=to_categorical(ytrain)"
      ],
      "execution_count": 0,
      "outputs": []
    },
    {
      "cell_type": "code",
      "metadata": {
        "id": "mrmjIMGQIKvv",
        "colab_type": "code",
        "colab": {}
      },
      "source": [
        "from keras import Sequential\n",
        "from keras.layers import Dense,Dropout"
      ],
      "execution_count": 0,
      "outputs": []
    },
    {
      "cell_type": "code",
      "metadata": {
        "id": "SgIVOZ-DNjKp",
        "colab_type": "code",
        "outputId": "bbbb05d8-e177-460e-a2bc-7323db1f7228",
        "colab": {
          "base_uri": "https://localhost:8080/",
          "height": 35
        }
      },
      "source": [
        "ytrain[0]"
      ],
      "execution_count": 0,
      "outputs": [
        {
          "output_type": "execute_result",
          "data": {
            "text/plain": [
              "array([0., 1., 0., 0., 0., 0., 0., 0., 0., 0.], dtype=float32)"
            ]
          },
          "metadata": {
            "tags": []
          },
          "execution_count": 40
        }
      ]
    },
    {
      "cell_type": "code",
      "metadata": {
        "id": "JG_gS50KNBFX",
        "colab_type": "code",
        "colab": {}
      },
      "source": [
        "from sklearn.model_selection import train_test_split\n",
        "xtrain,xtest,ytrain,ytest=train_test_split(xtrain,ytrain,test_size=0.3,random_state=2)"
      ],
      "execution_count": 0,
      "outputs": []
    },
    {
      "cell_type": "code",
      "metadata": {
        "id": "6mvenS29Idsv",
        "colab_type": "code",
        "outputId": "22cf397d-0aa0-41a6-f0ee-81d39a1287dd",
        "colab": {
          "base_uri": "https://localhost:8080/",
          "height": 237
        }
      },
      "source": [
        "model=Sequential()\n",
        "model.add(Dense(units=40,kernel_initializer='he_uniform',activation='relu',input_dim=784))\n",
        "model.add(Dropout(0.2))\n",
        "model.add(Dense(units=40,kernel_initializer='he_uniform',activation='relu'))\n",
        "model.add(Dropout(0.2))\n",
        "model.add(Dense(units=50,kernel_initializer='he_uniform',activation='relu'))\n",
        "model.add(Dropout(0.2))\n",
        "model.add(Dense(units=10,kernel_initializer='glorot_uniform',activation='softmax'))\n"
      ],
      "execution_count": 0,
      "outputs": [
        {
          "output_type": "stream",
          "text": [
            "WARNING:tensorflow:From /usr/local/lib/python3.6/dist-packages/keras/backend/tensorflow_backend.py:66: The name tf.get_default_graph is deprecated. Please use tf.compat.v1.get_default_graph instead.\n",
            "\n",
            "WARNING:tensorflow:From /usr/local/lib/python3.6/dist-packages/keras/backend/tensorflow_backend.py:541: The name tf.placeholder is deprecated. Please use tf.compat.v1.placeholder instead.\n",
            "\n",
            "WARNING:tensorflow:From /usr/local/lib/python3.6/dist-packages/keras/backend/tensorflow_backend.py:4432: The name tf.random_uniform is deprecated. Please use tf.random.uniform instead.\n",
            "\n",
            "WARNING:tensorflow:From /usr/local/lib/python3.6/dist-packages/keras/backend/tensorflow_backend.py:148: The name tf.placeholder_with_default is deprecated. Please use tf.compat.v1.placeholder_with_default instead.\n",
            "\n",
            "WARNING:tensorflow:From /usr/local/lib/python3.6/dist-packages/keras/backend/tensorflow_backend.py:3733: calling dropout (from tensorflow.python.ops.nn_ops) with keep_prob is deprecated and will be removed in a future version.\n",
            "Instructions for updating:\n",
            "Please use `rate` instead of `keep_prob`. Rate should be set to `rate = 1 - keep_prob`.\n"
          ],
          "name": "stdout"
        }
      ]
    },
    {
      "cell_type": "code",
      "metadata": {
        "id": "NPhSU0_0OXQd",
        "colab_type": "code",
        "outputId": "e8d22b4a-6a37-4ae0-d495-aa8bbbf7644d",
        "colab": {
          "base_uri": "https://localhost:8080/",
          "height": 110
        }
      },
      "source": [
        "model.compile(optimizer='adam',loss='categorical_crossentropy',metrics=['accuracy'])"
      ],
      "execution_count": 0,
      "outputs": [
        {
          "output_type": "stream",
          "text": [
            "WARNING:tensorflow:From /usr/local/lib/python3.6/dist-packages/keras/optimizers.py:793: The name tf.train.Optimizer is deprecated. Please use tf.compat.v1.train.Optimizer instead.\n",
            "\n",
            "WARNING:tensorflow:From /usr/local/lib/python3.6/dist-packages/keras/backend/tensorflow_backend.py:3576: The name tf.log is deprecated. Please use tf.math.log instead.\n",
            "\n"
          ],
          "name": "stdout"
        }
      ]
    },
    {
      "cell_type": "code",
      "metadata": {
        "id": "sbPdK730O6QW",
        "colab_type": "code",
        "outputId": "e03f1d9a-a609-44de-f352-28e26a8517cc",
        "colab": {
          "base_uri": "https://localhost:8080/",
          "height": 1000
        }
      },
      "source": [
        "model.fit(xtrain,ytrain,validation_data=(xtest,ytest),batch_size=100,nb_epoch=100)"
      ],
      "execution_count": 0,
      "outputs": [
        {
          "output_type": "stream",
          "text": [
            "WARNING:tensorflow:From /usr/local/lib/python3.6/dist-packages/tensorflow_core/python/ops/math_grad.py:1424: where (from tensorflow.python.ops.array_ops) is deprecated and will be removed in a future version.\n",
            "Instructions for updating:\n",
            "Use tf.where in 2.0, which has the same broadcast rule as np.where\n"
          ],
          "name": "stdout"
        },
        {
          "output_type": "stream",
          "text": [
            "/usr/local/lib/python3.6/dist-packages/ipykernel_launcher.py:1: UserWarning: The `nb_epoch` argument in `fit` has been renamed `epochs`.\n",
            "  \"\"\"Entry point for launching an IPython kernel.\n"
          ],
          "name": "stderr"
        },
        {
          "output_type": "stream",
          "text": [
            "WARNING:tensorflow:From /usr/local/lib/python3.6/dist-packages/keras/backend/tensorflow_backend.py:1033: The name tf.assign_add is deprecated. Please use tf.compat.v1.assign_add instead.\n",
            "\n",
            "WARNING:tensorflow:From /usr/local/lib/python3.6/dist-packages/keras/backend/tensorflow_backend.py:1020: The name tf.assign is deprecated. Please use tf.compat.v1.assign instead.\n",
            "\n",
            "WARNING:tensorflow:From /usr/local/lib/python3.6/dist-packages/keras/backend/tensorflow_backend.py:3005: The name tf.Session is deprecated. Please use tf.compat.v1.Session instead.\n",
            "\n",
            "Train on 29400 samples, validate on 12600 samples\n",
            "Epoch 1/100\n",
            "WARNING:tensorflow:From /usr/local/lib/python3.6/dist-packages/keras/backend/tensorflow_backend.py:190: The name tf.get_default_session is deprecated. Please use tf.compat.v1.get_default_session instead.\n",
            "\n",
            "WARNING:tensorflow:From /usr/local/lib/python3.6/dist-packages/keras/backend/tensorflow_backend.py:197: The name tf.ConfigProto is deprecated. Please use tf.compat.v1.ConfigProto instead.\n",
            "\n",
            "WARNING:tensorflow:From /usr/local/lib/python3.6/dist-packages/keras/backend/tensorflow_backend.py:207: The name tf.global_variables is deprecated. Please use tf.compat.v1.global_variables instead.\n",
            "\n",
            "WARNING:tensorflow:From /usr/local/lib/python3.6/dist-packages/keras/backend/tensorflow_backend.py:216: The name tf.is_variable_initialized is deprecated. Please use tf.compat.v1.is_variable_initialized instead.\n",
            "\n",
            "WARNING:tensorflow:From /usr/local/lib/python3.6/dist-packages/keras/backend/tensorflow_backend.py:223: The name tf.variables_initializer is deprecated. Please use tf.compat.v1.variables_initializer instead.\n",
            "\n",
            "29400/29400 [==============================] - 11s 366us/step - loss: 1.0250 - acc: 0.6607 - val_loss: 0.3587 - val_acc: 0.8943\n",
            "Epoch 2/100\n",
            "29400/29400 [==============================] - 2s 53us/step - loss: 0.4989 - acc: 0.8513 - val_loss: 0.2668 - val_acc: 0.9209\n",
            "Epoch 3/100\n",
            "29400/29400 [==============================] - 1s 50us/step - loss: 0.3932 - acc: 0.8838 - val_loss: 0.2278 - val_acc: 0.9314\n",
            "Epoch 4/100\n",
            "29400/29400 [==============================] - 1s 50us/step - loss: 0.3364 - acc: 0.9017 - val_loss: 0.2039 - val_acc: 0.9406\n",
            "Epoch 5/100\n",
            "29400/29400 [==============================] - 2s 52us/step - loss: 0.3077 - acc: 0.9102 - val_loss: 0.1997 - val_acc: 0.9426\n",
            "Epoch 6/100\n",
            "29400/29400 [==============================] - 2s 54us/step - loss: 0.2832 - acc: 0.9181 - val_loss: 0.1876 - val_acc: 0.9460\n",
            "Epoch 7/100\n",
            "29400/29400 [==============================] - 2s 62us/step - loss: 0.2600 - acc: 0.9234 - val_loss: 0.1815 - val_acc: 0.9470\n",
            "Epoch 8/100\n",
            "29400/29400 [==============================] - 2s 55us/step - loss: 0.2461 - acc: 0.9270 - val_loss: 0.1722 - val_acc: 0.9503\n",
            "Epoch 9/100\n",
            "29400/29400 [==============================] - 2s 54us/step - loss: 0.2392 - acc: 0.9296 - val_loss: 0.1709 - val_acc: 0.9507\n",
            "Epoch 10/100\n",
            "29400/29400 [==============================] - 1s 49us/step - loss: 0.2227 - acc: 0.9353 - val_loss: 0.1679 - val_acc: 0.9517\n",
            "Epoch 11/100\n",
            "29400/29400 [==============================] - 2s 54us/step - loss: 0.2164 - acc: 0.9355 - val_loss: 0.1592 - val_acc: 0.9541\n",
            "Epoch 12/100\n",
            "29400/29400 [==============================] - 2s 55us/step - loss: 0.2141 - acc: 0.9346 - val_loss: 0.1597 - val_acc: 0.9544\n",
            "Epoch 13/100\n",
            "29400/29400 [==============================] - 2s 53us/step - loss: 0.2004 - acc: 0.9411 - val_loss: 0.1611 - val_acc: 0.9544\n",
            "Epoch 14/100\n",
            "29400/29400 [==============================] - 2s 56us/step - loss: 0.1910 - acc: 0.9434 - val_loss: 0.1587 - val_acc: 0.9548\n",
            "Epoch 15/100\n",
            "29400/29400 [==============================] - 2s 53us/step - loss: 0.1848 - acc: 0.9458 - val_loss: 0.1602 - val_acc: 0.9563\n",
            "Epoch 16/100\n",
            "29400/29400 [==============================] - 2s 55us/step - loss: 0.1792 - acc: 0.9471 - val_loss: 0.1540 - val_acc: 0.9549\n",
            "Epoch 17/100\n",
            "29400/29400 [==============================] - 2s 52us/step - loss: 0.1781 - acc: 0.9477 - val_loss: 0.1605 - val_acc: 0.9553\n",
            "Epoch 18/100\n",
            "29400/29400 [==============================] - 2s 53us/step - loss: 0.1728 - acc: 0.9480 - val_loss: 0.1480 - val_acc: 0.9579\n",
            "Epoch 19/100\n",
            "29400/29400 [==============================] - 2s 55us/step - loss: 0.1689 - acc: 0.9501 - val_loss: 0.1553 - val_acc: 0.9575\n",
            "Epoch 20/100\n",
            "29400/29400 [==============================] - 2s 51us/step - loss: 0.1608 - acc: 0.9516 - val_loss: 0.1566 - val_acc: 0.9565\n",
            "Epoch 21/100\n",
            "29400/29400 [==============================] - 2s 52us/step - loss: 0.1662 - acc: 0.9497 - val_loss: 0.1541 - val_acc: 0.9589\n",
            "Epoch 22/100\n",
            "29400/29400 [==============================] - 2s 54us/step - loss: 0.1576 - acc: 0.9538 - val_loss: 0.1507 - val_acc: 0.9571\n",
            "Epoch 23/100\n",
            "29400/29400 [==============================] - 1s 49us/step - loss: 0.1524 - acc: 0.9529 - val_loss: 0.1483 - val_acc: 0.9572\n",
            "Epoch 24/100\n",
            "29400/29400 [==============================] - 1s 48us/step - loss: 0.1432 - acc: 0.9583 - val_loss: 0.1569 - val_acc: 0.9590\n",
            "Epoch 25/100\n",
            "29400/29400 [==============================] - 2s 56us/step - loss: 0.1547 - acc: 0.9538 - val_loss: 0.1545 - val_acc: 0.9583\n",
            "Epoch 26/100\n",
            "29400/29400 [==============================] - 1s 51us/step - loss: 0.1463 - acc: 0.9554 - val_loss: 0.1613 - val_acc: 0.9580\n",
            "Epoch 27/100\n",
            "29400/29400 [==============================] - 1s 51us/step - loss: 0.1410 - acc: 0.9583 - val_loss: 0.1634 - val_acc: 0.9547\n",
            "Epoch 28/100\n",
            "29400/29400 [==============================] - 2s 53us/step - loss: 0.1411 - acc: 0.9570 - val_loss: 0.1544 - val_acc: 0.9583\n",
            "Epoch 29/100\n",
            "29400/29400 [==============================] - 1s 50us/step - loss: 0.1353 - acc: 0.9592 - val_loss: 0.1514 - val_acc: 0.9587\n",
            "Epoch 30/100\n",
            "29400/29400 [==============================] - 1s 49us/step - loss: 0.1336 - acc: 0.9594 - val_loss: 0.1497 - val_acc: 0.9593\n",
            "Epoch 31/100\n",
            "29400/29400 [==============================] - 2s 58us/step - loss: 0.1286 - acc: 0.9603 - val_loss: 0.1532 - val_acc: 0.9590\n",
            "Epoch 32/100\n",
            "29400/29400 [==============================] - 2s 53us/step - loss: 0.1277 - acc: 0.9608 - val_loss: 0.1528 - val_acc: 0.9585\n",
            "Epoch 33/100\n",
            "29400/29400 [==============================] - 2s 55us/step - loss: 0.1270 - acc: 0.9625 - val_loss: 0.1505 - val_acc: 0.9600\n",
            "Epoch 34/100\n",
            "29400/29400 [==============================] - 1s 49us/step - loss: 0.1305 - acc: 0.9616 - val_loss: 0.1519 - val_acc: 0.9603\n",
            "Epoch 35/100\n",
            "29400/29400 [==============================] - 1s 51us/step - loss: 0.1309 - acc: 0.9604 - val_loss: 0.1542 - val_acc: 0.9590\n",
            "Epoch 36/100\n",
            "29400/29400 [==============================] - 2s 51us/step - loss: 0.1300 - acc: 0.9612 - val_loss: 0.1465 - val_acc: 0.9597\n",
            "Epoch 37/100\n",
            "29400/29400 [==============================] - 1s 50us/step - loss: 0.1213 - acc: 0.9629 - val_loss: 0.1611 - val_acc: 0.9584\n",
            "Epoch 38/100\n",
            "29400/29400 [==============================] - 2s 58us/step - loss: 0.1196 - acc: 0.9631 - val_loss: 0.1537 - val_acc: 0.9602\n",
            "Epoch 39/100\n",
            "29400/29400 [==============================] - 2s 53us/step - loss: 0.1203 - acc: 0.9632 - val_loss: 0.1624 - val_acc: 0.9594\n",
            "Epoch 40/100\n",
            "29400/29400 [==============================] - 2s 56us/step - loss: 0.1228 - acc: 0.9637 - val_loss: 0.1535 - val_acc: 0.9595\n",
            "Epoch 41/100\n",
            "29400/29400 [==============================] - 1s 49us/step - loss: 0.1130 - acc: 0.9646 - val_loss: 0.1558 - val_acc: 0.9601\n",
            "Epoch 42/100\n",
            "29400/29400 [==============================] - 2s 52us/step - loss: 0.1180 - acc: 0.9639 - val_loss: 0.1534 - val_acc: 0.9598\n",
            "Epoch 43/100\n",
            "29400/29400 [==============================] - 2s 54us/step - loss: 0.1128 - acc: 0.9656 - val_loss: 0.1521 - val_acc: 0.9590\n",
            "Epoch 44/100\n",
            "29400/29400 [==============================] - 2s 57us/step - loss: 0.1156 - acc: 0.9641 - val_loss: 0.1560 - val_acc: 0.9595\n",
            "Epoch 45/100\n",
            "29400/29400 [==============================] - 2s 59us/step - loss: 0.1182 - acc: 0.9645 - val_loss: 0.1541 - val_acc: 0.9592\n",
            "Epoch 46/100\n",
            "29400/29400 [==============================] - 2s 60us/step - loss: 0.1131 - acc: 0.9660 - val_loss: 0.1576 - val_acc: 0.9563\n",
            "Epoch 47/100\n",
            "29400/29400 [==============================] - 2s 56us/step - loss: 0.1093 - acc: 0.9674 - val_loss: 0.1751 - val_acc: 0.9555\n",
            "Epoch 48/100\n",
            "29400/29400 [==============================] - 2s 52us/step - loss: 0.1091 - acc: 0.9667 - val_loss: 0.1549 - val_acc: 0.9594\n",
            "Epoch 49/100\n",
            "29400/29400 [==============================] - 2s 51us/step - loss: 0.1132 - acc: 0.9651 - val_loss: 0.1521 - val_acc: 0.9613\n",
            "Epoch 50/100\n",
            "29400/29400 [==============================] - 2s 52us/step - loss: 0.1083 - acc: 0.9670 - val_loss: 0.1540 - val_acc: 0.9598\n",
            "Epoch 51/100\n",
            "29400/29400 [==============================] - 1s 48us/step - loss: 0.1098 - acc: 0.9659 - val_loss: 0.1535 - val_acc: 0.9596\n",
            "Epoch 52/100\n",
            "29400/29400 [==============================] - 1s 48us/step - loss: 0.1030 - acc: 0.9681 - val_loss: 0.1598 - val_acc: 0.9588\n",
            "Epoch 53/100\n",
            "29400/29400 [==============================] - 1s 49us/step - loss: 0.1126 - acc: 0.9644 - val_loss: 0.1497 - val_acc: 0.9603\n",
            "Epoch 54/100\n",
            "29400/29400 [==============================] - 2s 52us/step - loss: 0.1026 - acc: 0.9695 - val_loss: 0.1564 - val_acc: 0.9596\n",
            "Epoch 55/100\n",
            "29400/29400 [==============================] - 2s 54us/step - loss: 0.0995 - acc: 0.9692 - val_loss: 0.1611 - val_acc: 0.9586\n",
            "Epoch 56/100\n",
            "29400/29400 [==============================] - 2s 56us/step - loss: 0.1051 - acc: 0.9681 - val_loss: 0.1497 - val_acc: 0.9609\n",
            "Epoch 57/100\n",
            "29400/29400 [==============================] - 2s 54us/step - loss: 0.0993 - acc: 0.9705 - val_loss: 0.1594 - val_acc: 0.9592\n",
            "Epoch 58/100\n",
            "29400/29400 [==============================] - 1s 50us/step - loss: 0.1068 - acc: 0.9677 - val_loss: 0.1528 - val_acc: 0.9609\n",
            "Epoch 59/100\n",
            "29400/29400 [==============================] - 1s 50us/step - loss: 0.1029 - acc: 0.9667 - val_loss: 0.1643 - val_acc: 0.9588\n",
            "Epoch 60/100\n",
            "29400/29400 [==============================] - 2s 53us/step - loss: 0.1016 - acc: 0.9674 - val_loss: 0.1557 - val_acc: 0.9602\n",
            "Epoch 61/100\n",
            "29400/29400 [==============================] - 1s 50us/step - loss: 0.1016 - acc: 0.9682 - val_loss: 0.1544 - val_acc: 0.9615\n",
            "Epoch 62/100\n",
            "29400/29400 [==============================] - 2s 55us/step - loss: 0.0974 - acc: 0.9695 - val_loss: 0.1719 - val_acc: 0.9589\n",
            "Epoch 63/100\n",
            "29400/29400 [==============================] - 2s 56us/step - loss: 0.0970 - acc: 0.9692 - val_loss: 0.1637 - val_acc: 0.9590\n",
            "Epoch 64/100\n",
            "29400/29400 [==============================] - 2s 56us/step - loss: 0.0982 - acc: 0.9693 - val_loss: 0.1629 - val_acc: 0.9607\n",
            "Epoch 65/100\n",
            "29400/29400 [==============================] - 2s 51us/step - loss: 0.0930 - acc: 0.9712 - val_loss: 0.1660 - val_acc: 0.9594\n",
            "Epoch 66/100\n",
            "29400/29400 [==============================] - 2s 55us/step - loss: 0.0977 - acc: 0.9701 - val_loss: 0.1658 - val_acc: 0.9602\n",
            "Epoch 67/100\n",
            "29400/29400 [==============================] - 2s 52us/step - loss: 0.0945 - acc: 0.9712 - val_loss: 0.1699 - val_acc: 0.9594\n",
            "Epoch 68/100\n",
            "29400/29400 [==============================] - 2s 56us/step - loss: 0.0907 - acc: 0.9729 - val_loss: 0.1717 - val_acc: 0.9595\n",
            "Epoch 69/100\n",
            "29400/29400 [==============================] - 2s 56us/step - loss: 0.0943 - acc: 0.9713 - val_loss: 0.1833 - val_acc: 0.9569\n",
            "Epoch 70/100\n",
            "29400/29400 [==============================] - 2s 52us/step - loss: 0.0973 - acc: 0.9703 - val_loss: 0.1613 - val_acc: 0.9602\n",
            "Epoch 71/100\n",
            "29400/29400 [==============================] - 1s 48us/step - loss: 0.0961 - acc: 0.9709 - val_loss: 0.1622 - val_acc: 0.9617\n",
            "Epoch 72/100\n",
            "29400/29400 [==============================] - 1s 48us/step - loss: 0.0941 - acc: 0.9713 - val_loss: 0.1508 - val_acc: 0.9617\n",
            "Epoch 73/100\n",
            "29400/29400 [==============================] - 2s 54us/step - loss: 0.0921 - acc: 0.9720 - val_loss: 0.1664 - val_acc: 0.9597\n",
            "Epoch 74/100\n",
            "29400/29400 [==============================] - 1s 49us/step - loss: 0.0943 - acc: 0.9715 - val_loss: 0.1657 - val_acc: 0.9603\n",
            "Epoch 75/100\n",
            "29400/29400 [==============================] - 2s 54us/step - loss: 0.0924 - acc: 0.9716 - val_loss: 0.1580 - val_acc: 0.9610\n",
            "Epoch 76/100\n",
            "29400/29400 [==============================] - 2s 53us/step - loss: 0.0920 - acc: 0.9721 - val_loss: 0.1635 - val_acc: 0.9618\n",
            "Epoch 77/100\n",
            "29400/29400 [==============================] - 1s 49us/step - loss: 0.0911 - acc: 0.9729 - val_loss: 0.1662 - val_acc: 0.9602\n",
            "Epoch 78/100\n",
            "29400/29400 [==============================] - 2s 52us/step - loss: 0.0933 - acc: 0.9714 - val_loss: 0.1653 - val_acc: 0.9585\n",
            "Epoch 79/100\n",
            "29400/29400 [==============================] - 2s 56us/step - loss: 0.0918 - acc: 0.9706 - val_loss: 0.1629 - val_acc: 0.9601\n",
            "Epoch 80/100\n",
            "29400/29400 [==============================] - 2s 54us/step - loss: 0.0876 - acc: 0.9726 - val_loss: 0.1628 - val_acc: 0.9619\n",
            "Epoch 81/100\n",
            "29400/29400 [==============================] - 2s 54us/step - loss: 0.0941 - acc: 0.9705 - val_loss: 0.1681 - val_acc: 0.9598\n",
            "Epoch 82/100\n",
            "29400/29400 [==============================] - 2s 55us/step - loss: 0.0924 - acc: 0.9715 - val_loss: 0.1670 - val_acc: 0.9616\n",
            "Epoch 83/100\n",
            "29400/29400 [==============================] - 1s 50us/step - loss: 0.0870 - acc: 0.9725 - val_loss: 0.1671 - val_acc: 0.9624\n",
            "Epoch 84/100\n",
            "29400/29400 [==============================] - 2s 63us/step - loss: 0.0899 - acc: 0.9723 - val_loss: 0.1719 - val_acc: 0.9598\n",
            "Epoch 85/100\n",
            "29400/29400 [==============================] - 2s 52us/step - loss: 0.0949 - acc: 0.9717 - val_loss: 0.1750 - val_acc: 0.9597\n",
            "Epoch 86/100\n",
            "29400/29400 [==============================] - 2s 56us/step - loss: 0.0898 - acc: 0.9734 - val_loss: 0.1674 - val_acc: 0.9603\n",
            "Epoch 87/100\n",
            "29400/29400 [==============================] - 2s 53us/step - loss: 0.0880 - acc: 0.9722 - val_loss: 0.1760 - val_acc: 0.9599\n",
            "Epoch 88/100\n",
            "29400/29400 [==============================] - 1s 50us/step - loss: 0.0829 - acc: 0.9747 - val_loss: 0.1744 - val_acc: 0.9602\n",
            "Epoch 89/100\n",
            "29400/29400 [==============================] - 2s 52us/step - loss: 0.0888 - acc: 0.9741 - val_loss: 0.1721 - val_acc: 0.9606\n",
            "Epoch 90/100\n",
            "29400/29400 [==============================] - 1s 50us/step - loss: 0.0875 - acc: 0.9733 - val_loss: 0.1741 - val_acc: 0.9613\n",
            "Epoch 91/100\n",
            "29400/29400 [==============================] - 1s 51us/step - loss: 0.0867 - acc: 0.9739 - val_loss: 0.1692 - val_acc: 0.9610\n",
            "Epoch 92/100\n",
            "29400/29400 [==============================] - 1s 48us/step - loss: 0.0835 - acc: 0.9744 - val_loss: 0.1691 - val_acc: 0.9606\n",
            "Epoch 93/100\n",
            "29400/29400 [==============================] - 2s 53us/step - loss: 0.0878 - acc: 0.9722 - val_loss: 0.1709 - val_acc: 0.9610\n",
            "Epoch 94/100\n",
            "29400/29400 [==============================] - 2s 51us/step - loss: 0.0824 - acc: 0.9743 - val_loss: 0.1731 - val_acc: 0.9614\n",
            "Epoch 95/100\n",
            "29400/29400 [==============================] - 1s 51us/step - loss: 0.0850 - acc: 0.9744 - val_loss: 0.1876 - val_acc: 0.9602\n",
            "Epoch 96/100\n",
            "29400/29400 [==============================] - 1s 50us/step - loss: 0.0891 - acc: 0.9729 - val_loss: 0.1719 - val_acc: 0.9603\n",
            "Epoch 97/100\n",
            "29400/29400 [==============================] - 2s 52us/step - loss: 0.0845 - acc: 0.9743 - val_loss: 0.1821 - val_acc: 0.9608\n",
            "Epoch 98/100\n",
            "29400/29400 [==============================] - 2s 54us/step - loss: 0.0867 - acc: 0.9741 - val_loss: 0.1800 - val_acc: 0.9602\n",
            "Epoch 99/100\n",
            "29400/29400 [==============================] - 1s 47us/step - loss: 0.0844 - acc: 0.9742 - val_loss: 0.1702 - val_acc: 0.9613\n",
            "Epoch 100/100\n",
            "29400/29400 [==============================] - 1s 48us/step - loss: 0.0837 - acc: 0.9745 - val_loss: 0.1733 - val_acc: 0.9612\n"
          ],
          "name": "stdout"
        },
        {
          "output_type": "execute_result",
          "data": {
            "text/plain": [
              "<keras.callbacks.History at 0x7f191ebb4da0>"
            ]
          },
          "metadata": {
            "tags": []
          },
          "execution_count": 12
        }
      ]
    },
    {
      "cell_type": "code",
      "metadata": {
        "id": "rY9cGRJ3PJQ_",
        "colab_type": "code",
        "colab": {}
      },
      "source": [
        "prediction=model.predict(test)"
      ],
      "execution_count": 0,
      "outputs": []
    },
    {
      "cell_type": "code",
      "metadata": {
        "id": "B5vSP4aGPxi9",
        "colab_type": "code",
        "outputId": "9cbc0628-8f83-4df0-d1d1-00356be2266b",
        "colab": {
          "base_uri": "https://localhost:8080/",
          "height": 301
        }
      },
      "source": [
        "plt.imshow(test[67].reshape(28,28))\n",
        "plt.show()\n",
        "print(prediction[67])"
      ],
      "execution_count": 0,
      "outputs": [
        {
          "output_type": "display_data",
          "data": {
            "image/png": "[encoded data removed]",
            "text/plain": [
              "<Figure size 432x288 with 1 Axes>"
            ]
          },
          "metadata": {
            "tags": []
          }
        },
        {
          "output_type": "stream",
          "text": [
            "[0.         0.         0.         0.         0.16708285 0.\n",
            " 0.         0.         0.         4.351582  ]\n"
          ],
          "name": "stdout"
        }
      ]
    },
    {
      "cell_type": "code",
      "metadata": {
        "id": "0sDI48JmP7iM",
        "colab_type": "code",
        "outputId": "c753aa82-406d-4d77-feac-f45b9ec44fb1",
        "colab": {
          "base_uri": "https://localhost:8080/",
          "height": 35
        }
      },
      "source": [
        "l=list(prediction[0])\n",
        "print(l)"
      ],
      "execution_count": 0,
      "outputs": [
        {
          "output_type": "stream",
          "text": [
            "[0.0, 0.0, 19.04124, 0.0, 0.0, 0.0, 0.0, 0.0, 0.0, 0.0]\n"
          ],
          "name": "stdout"
        }
      ]
    },
    {
      "cell_type": "code",
      "metadata": {
        "id": "1rXTuaPCQW1I",
        "colab_type": "code",
        "outputId": "f3105df1-28eb-4b00-8f4d-a44e21cd5587",
        "colab": {
          "base_uri": "https://localhost:8080/",
          "height": 35
        }
      },
      "source": [
        "prediction.shape"
      ],
      "execution_count": 0,
      "outputs": [
        {
          "output_type": "execute_result",
          "data": {
            "text/plain": [
              "(28000, 10)"
            ]
          },
          "metadata": {
            "tags": []
          },
          "execution_count": 56
        }
      ]
    },
    {
      "cell_type": "code",
      "metadata": {
        "id": "1YuOWxFXQYpm",
        "colab_type": "code",
        "colab": {}
      },
      "source": [
        "lt2=[]\n",
        "x=0.0\n",
        "ind=0\n",
        "for i in range(0,len(prediction)):\n",
        "  lt=[]\n",
        "  lt=list(prediction[i])\n",
        "  x=0\n",
        "  for j in range(0,len(lt)):\n",
        "    if lt[j]>x:\n",
        "      x=lt[j]\n",
        "      ind=j\n",
        "  lt2.append(ind)  \n",
        "\n"
      ],
      "execution_count": 0,
      "outputs": []
    },
    {
      "cell_type": "code",
      "metadata": {
        "id": "0XbNsLMASAJT",
        "colab_type": "code",
        "colab": {}
      },
      "source": [
        "lt2"
      ],
      "execution_count": 0,
      "outputs": []
    },
    {
      "cell_type": "code",
      "metadata": {
        "id": "1aXIYP8XSGPb",
        "colab_type": "code",
        "colab": {}
      },
      "source": [
        "sample=pd.read_csv('/content/drive/My Drive/COLAB FILES/Datasets/sample_submission.csv')"
      ],
      "execution_count": 0,
      "outputs": []
    },
    {
      "cell_type": "code",
      "metadata": {
        "id": "BVSm2-p8UCXx",
        "colab_type": "code",
        "outputId": "3d32a415-1645-4d30-eb2e-983aa4ee0118",
        "colab": {
          "base_uri": "https://localhost:8080/",
          "height": 198
        }
      },
      "source": [
        "sample.head()"
      ],
      "execution_count": 0,
      "outputs": [
        {
          "output_type": "execute_result",
          "data": {
            "text/html": [
              "<div>\n",
              "<style scoped>\n",
              "    .dataframe tbody tr th:only-of-type {\n",
              "        vertical-align: middle;\n",
              "    }\n",
              "\n",
              "    .dataframe tbody tr th {\n",
              "        vertical-align: top;\n",
              "    }\n",
              "\n",
              "    .dataframe thead th {\n",
              "        text-align: right;\n",
              "    }\n",
              "</style>\n",
              "<table border=\"1\" class=\"dataframe\">\n",
              "  <thead>\n",
              "    <tr style=\"text-align: right;\">\n",
              "      <th></th>\n",
              "      <th>ImageId</th>\n",
              "      <th>Label</th>\n",
              "    </tr>\n",
              "  </thead>\n",
              "  <tbody>\n",
              "    <tr>\n",
              "      <th>0</th>\n",
              "      <td>1</td>\n",
              "      <td>0</td>\n",
              "    </tr>\n",
              "    <tr>\n",
              "      <th>1</th>\n",
              "      <td>2</td>\n",
              "      <td>0</td>\n",
              "    </tr>\n",
              "    <tr>\n",
              "      <th>2</th>\n",
              "      <td>3</td>\n",
              "      <td>0</td>\n",
              "    </tr>\n",
              "    <tr>\n",
              "      <th>3</th>\n",
              "      <td>4</td>\n",
              "      <td>0</td>\n",
              "    </tr>\n",
              "    <tr>\n",
              "      <th>4</th>\n",
              "      <td>5</td>\n",
              "      <td>0</td>\n",
              "    </tr>\n",
              "  </tbody>\n",
              "</table>\n",
              "</div>"
            ],
            "text/plain": [
              "   ImageId  Label\n",
              "0        1      0\n",
              "1        2      0\n",
              "2        3      0\n",
              "3        4      0\n",
              "4        5      0"
            ]
          },
          "metadata": {
            "tags": []
          },
          "execution_count": 73
        }
      ]
    },
    {
      "cell_type": "code",
      "metadata": {
        "id": "Srw39hqTUD3J",
        "colab_type": "code",
        "outputId": "13baee64-9ec0-486e-e006-1e7b24e0b115",
        "colab": {
          "base_uri": "https://localhost:8080/",
          "height": 35
        }
      },
      "source": [
        "sample.shape"
      ],
      "execution_count": 0,
      "outputs": [
        {
          "output_type": "execute_result",
          "data": {
            "text/plain": [
              "(28000, 2)"
            ]
          },
          "metadata": {
            "tags": []
          },
          "execution_count": 74
        }
      ]
    },
    {
      "cell_type": "code",
      "metadata": {
        "id": "5PRVmRh4UGYt",
        "colab_type": "code",
        "colab": {}
      },
      "source": [
        "sample.drop('Label',axis=1,inplace=True)"
      ],
      "execution_count": 0,
      "outputs": []
    },
    {
      "cell_type": "code",
      "metadata": {
        "id": "OHgiPFE4UMCF",
        "colab_type": "code",
        "colab": {}
      },
      "source": [
        "sample['Label']=pd.DataFrame(lt2)"
      ],
      "execution_count": 0,
      "outputs": []
    },
    {
      "cell_type": "code",
      "metadata": {
        "id": "wqxfDTq-URy3",
        "colab_type": "code",
        "outputId": "3893b90d-819d-482f-fbf8-41caf68705a7",
        "colab": {
          "base_uri": "https://localhost:8080/",
          "height": 198
        }
      },
      "source": [
        "sample.head()"
      ],
      "execution_count": 0,
      "outputs": [
        {
          "output_type": "execute_result",
          "data": {
            "text/html": [
              "<div>\n",
              "<style scoped>\n",
              "    .dataframe tbody tr th:only-of-type {\n",
              "        vertical-align: middle;\n",
              "    }\n",
              "\n",
              "    .dataframe tbody tr th {\n",
              "        vertical-align: top;\n",
              "    }\n",
              "\n",
              "    .dataframe thead th {\n",
              "        text-align: right;\n",
              "    }\n",
              "</style>\n",
              "<table border=\"1\" class=\"dataframe\">\n",
              "  <thead>\n",
              "    <tr style=\"text-align: right;\">\n",
              "      <th></th>\n",
              "      <th>ImageId</th>\n",
              "      <th>Label</th>\n",
              "    </tr>\n",
              "  </thead>\n",
              "  <tbody>\n",
              "    <tr>\n",
              "      <th>0</th>\n",
              "      <td>1</td>\n",
              "      <td>2</td>\n",
              "    </tr>\n",
              "    <tr>\n",
              "      <th>1</th>\n",
              "      <td>2</td>\n",
              "      <td>0</td>\n",
              "    </tr>\n",
              "    <tr>\n",
              "      <th>2</th>\n",
              "      <td>3</td>\n",
              "      <td>9</td>\n",
              "    </tr>\n",
              "    <tr>\n",
              "      <th>3</th>\n",
              "      <td>4</td>\n",
              "      <td>4</td>\n",
              "    </tr>\n",
              "    <tr>\n",
              "      <th>4</th>\n",
              "      <td>5</td>\n",
              "      <td>3</td>\n",
              "    </tr>\n",
              "  </tbody>\n",
              "</table>\n",
              "</div>"
            ],
            "text/plain": [
              "   ImageId  Label\n",
              "0        1      2\n",
              "1        2      0\n",
              "2        3      9\n",
              "3        4      4\n",
              "4        5      3"
            ]
          },
          "metadata": {
            "tags": []
          },
          "execution_count": 77
        }
      ]
    },
    {
      "cell_type": "code",
      "metadata": {
        "id": "qQGmQy3EUT63",
        "colab_type": "code",
        "colab": {}
      },
      "source": [
        "sample.to_csv('mnist_sub_ann4.csv',index=False)"
      ],
      "execution_count": 0,
      "outputs": []
    },
    {
      "cell_type": "code",
      "metadata": {
        "id": "08J_5Ns2UdLY",
        "colab_type": "code",
        "colab": {}
      },
      "source": [
        "#USING CNN"
      ],
      "execution_count": 0,
      "outputs": []
    },
    {
      "cell_type": "code",
      "metadata": {
        "id": "l2eHB60P_q9V",
        "colab_type": "code",
        "colab": {}
      },
      "source": [
        "xtrain=xtrain.reshape(len(xtrain),28,28,1)\n",
        "#xtest=xtest.reshape(len(xtest),28,28,1)"
      ],
      "execution_count": 0,
      "outputs": []
    },
    {
      "cell_type": "code",
      "metadata": {
        "id": "pw-WoEzT_6fP",
        "colab_type": "code",
        "outputId": "2c27a58b-4452-477e-aecd-656dbdc3ac4a",
        "colab": {
          "base_uri": "https://localhost:8080/",
          "height": 35
        }
      },
      "source": [
        "xtrain.shape"
      ],
      "execution_count": 0,
      "outputs": [
        {
          "output_type": "execute_result",
          "data": {
            "text/plain": [
              "(29400, 28, 28, 1)"
            ]
          },
          "metadata": {
            "tags": []
          },
          "execution_count": 20
        }
      ]
    },
    {
      "cell_type": "code",
      "metadata": {
        "id": "JKP3l1BpADzb",
        "colab_type": "code",
        "outputId": "2385c332-23b9-4e48-84ba-b6adf3b7976c",
        "colab": {
          "base_uri": "https://localhost:8080/",
          "height": 35
        }
      },
      "source": [
        "test.shape"
      ],
      "execution_count": 0,
      "outputs": [
        {
          "output_type": "execute_result",
          "data": {
            "text/plain": [
              "(28000, 784)"
            ]
          },
          "metadata": {
            "tags": []
          },
          "execution_count": 21
        }
      ]
    },
    {
      "cell_type": "code",
      "metadata": {
        "id": "sdk9-Z--AJUZ",
        "colab_type": "code",
        "colab": {}
      },
      "source": [
        "test=test.reshape(len(test),28,28,1)"
      ],
      "execution_count": 0,
      "outputs": []
    },
    {
      "cell_type": "code",
      "metadata": {
        "id": "s5hk5wskAMDW",
        "colab_type": "code",
        "colab": {}
      },
      "source": [
        "from keras.layers import Conv2D,Flatten,MaxPool2D\n",
        "from keras import Sequential"
      ],
      "execution_count": 0,
      "outputs": []
    },
    {
      "cell_type": "code",
      "metadata": {
        "id": "bblZfc6FJ1A5",
        "colab_type": "code",
        "outputId": "a563a291-206c-488f-831c-8d1404450c2e",
        "colab": {
          "base_uri": "https://localhost:8080/",
          "height": 274
        }
      },
      "source": [
        "classifier=Sequential()\n",
        "classifier.add(Conv2D(64,kernel_size=3,activation='relu',input_shape=(28,28,1)))\n",
        "classifier.add(MaxPool2D(pool_size=(2,2)))\n",
        "classifier.add(Dropout(0.2))\n",
        "classifier.add(Conv2D(64,kernel_size=3,activation='relu'))\n",
        "classifier.add(MaxPool2D(pool_size=(2,2)))\n",
        "classifier.add(Dropout(0.2))\n",
        "classifier.add(Flatten())\n",
        "classifier.add(Dense(units=96,kernel_initializer='he_uniform',activation='relu'))\n",
        "classifier.add(Dense(units=10,activation='softmax'))"
      ],
      "execution_count": 0,
      "outputs": [
        {
          "output_type": "stream",
          "text": [
            "WARNING:tensorflow:From /usr/local/lib/python3.6/dist-packages/keras/backend/tensorflow_backend.py:66: The name tf.get_default_graph is deprecated. Please use tf.compat.v1.get_default_graph instead.\n",
            "\n",
            "WARNING:tensorflow:From /usr/local/lib/python3.6/dist-packages/keras/backend/tensorflow_backend.py:541: The name tf.placeholder is deprecated. Please use tf.compat.v1.placeholder instead.\n",
            "\n",
            "WARNING:tensorflow:From /usr/local/lib/python3.6/dist-packages/keras/backend/tensorflow_backend.py:4432: The name tf.random_uniform is deprecated. Please use tf.random.uniform instead.\n",
            "\n",
            "WARNING:tensorflow:From /usr/local/lib/python3.6/dist-packages/keras/backend/tensorflow_backend.py:4267: The name tf.nn.max_pool is deprecated. Please use tf.nn.max_pool2d instead.\n",
            "\n",
            "WARNING:tensorflow:From /usr/local/lib/python3.6/dist-packages/keras/backend/tensorflow_backend.py:148: The name tf.placeholder_with_default is deprecated. Please use tf.compat.v1.placeholder_with_default instead.\n",
            "\n",
            "WARNING:tensorflow:From /usr/local/lib/python3.6/dist-packages/keras/backend/tensorflow_backend.py:3733: calling dropout (from tensorflow.python.ops.nn_ops) with keep_prob is deprecated and will be removed in a future version.\n",
            "Instructions for updating:\n",
            "Please use `rate` instead of `keep_prob`. Rate should be set to `rate = 1 - keep_prob`.\n"
          ],
          "name": "stdout"
        }
      ]
    },
    {
      "cell_type": "code",
      "metadata": {
        "id": "iFPG23t9dUMH",
        "colab_type": "code",
        "outputId": "27105a30-b4f1-4ae6-be86-118b86e65b85",
        "colab": {
          "base_uri": "https://localhost:8080/",
          "height": 110
        }
      },
      "source": [
        "classifier.compile(optimizer='adam',loss='categorical_crossentropy',metrics=['accuracy'])"
      ],
      "execution_count": 0,
      "outputs": [
        {
          "output_type": "stream",
          "text": [
            "WARNING:tensorflow:From /usr/local/lib/python3.6/dist-packages/keras/optimizers.py:793: The name tf.train.Optimizer is deprecated. Please use tf.compat.v1.train.Optimizer instead.\n",
            "\n",
            "WARNING:tensorflow:From /usr/local/lib/python3.6/dist-packages/keras/backend/tensorflow_backend.py:3576: The name tf.log is deprecated. Please use tf.math.log instead.\n",
            "\n"
          ],
          "name": "stdout"
        }
      ]
    },
    {
      "cell_type": "code",
      "metadata": {
        "id": "QphpKFNTdnul",
        "colab_type": "code",
        "outputId": "fe63d48c-9292-40b8-9d54-01b3903c8ea5",
        "colab": {
          "base_uri": "https://localhost:8080/",
          "height": 783
        }
      },
      "source": [
        "classifier.fit(xtrain,ytrain,validation_split=0.3,epochs=10)"
      ],
      "execution_count": 0,
      "outputs": [
        {
          "output_type": "stream",
          "text": [
            "WARNING:tensorflow:From /usr/local/lib/python3.6/dist-packages/tensorflow_core/python/ops/math_grad.py:1424: where (from tensorflow.python.ops.array_ops) is deprecated and will be removed in a future version.\n",
            "Instructions for updating:\n",
            "Use tf.where in 2.0, which has the same broadcast rule as np.where\n",
            "WARNING:tensorflow:From /usr/local/lib/python3.6/dist-packages/keras/backend/tensorflow_backend.py:1033: The name tf.assign_add is deprecated. Please use tf.compat.v1.assign_add instead.\n",
            "\n",
            "WARNING:tensorflow:From /usr/local/lib/python3.6/dist-packages/keras/backend/tensorflow_backend.py:1020: The name tf.assign is deprecated. Please use tf.compat.v1.assign instead.\n",
            "\n",
            "WARNING:tensorflow:From /usr/local/lib/python3.6/dist-packages/keras/backend/tensorflow_backend.py:3005: The name tf.Session is deprecated. Please use tf.compat.v1.Session instead.\n",
            "\n",
            "Train on 29399 samples, validate on 12601 samples\n",
            "Epoch 1/10\n",
            "WARNING:tensorflow:From /usr/local/lib/python3.6/dist-packages/keras/backend/tensorflow_backend.py:190: The name tf.get_default_session is deprecated. Please use tf.compat.v1.get_default_session instead.\n",
            "\n",
            "WARNING:tensorflow:From /usr/local/lib/python3.6/dist-packages/keras/backend/tensorflow_backend.py:197: The name tf.ConfigProto is deprecated. Please use tf.compat.v1.ConfigProto instead.\n",
            "\n",
            "WARNING:tensorflow:From /usr/local/lib/python3.6/dist-packages/keras/backend/tensorflow_backend.py:207: The name tf.global_variables is deprecated. Please use tf.compat.v1.global_variables instead.\n",
            "\n",
            "WARNING:tensorflow:From /usr/local/lib/python3.6/dist-packages/keras/backend/tensorflow_backend.py:216: The name tf.is_variable_initialized is deprecated. Please use tf.compat.v1.is_variable_initialized instead.\n",
            "\n",
            "WARNING:tensorflow:From /usr/local/lib/python3.6/dist-packages/keras/backend/tensorflow_backend.py:223: The name tf.variables_initializer is deprecated. Please use tf.compat.v1.variables_initializer instead.\n",
            "\n",
            "29399/29399 [==============================] - 8s 273us/step - loss: 0.2198 - acc: 0.9296 - val_loss: 0.0638 - val_acc: 0.9802\n",
            "Epoch 2/10\n",
            "29399/29399 [==============================] - 6s 214us/step - loss: 0.0686 - acc: 0.9789 - val_loss: 0.0544 - val_acc: 0.9824\n",
            "Epoch 3/10\n",
            "29399/29399 [==============================] - 6s 207us/step - loss: 0.0485 - acc: 0.9845 - val_loss: 0.0444 - val_acc: 0.9874\n",
            "Epoch 4/10\n",
            "29399/29399 [==============================] - 6s 199us/step - loss: 0.0388 - acc: 0.9875 - val_loss: 0.0440 - val_acc: 0.9858\n",
            "Epoch 5/10\n",
            "29399/29399 [==============================] - 6s 200us/step - loss: 0.0305 - acc: 0.9900 - val_loss: 0.0406 - val_acc: 0.9875\n",
            "Epoch 6/10\n",
            "29399/29399 [==============================] - 6s 196us/step - loss: 0.0250 - acc: 0.9918 - val_loss: 0.0404 - val_acc: 0.9890\n",
            "Epoch 7/10\n",
            "29399/29399 [==============================] - 6s 197us/step - loss: 0.0218 - acc: 0.9928 - val_loss: 0.0437 - val_acc: 0.9879\n",
            "Epoch 8/10\n",
            "29399/29399 [==============================] - 6s 202us/step - loss: 0.0185 - acc: 0.9944 - val_loss: 0.0482 - val_acc: 0.9873\n",
            "Epoch 9/10\n",
            "29399/29399 [==============================] - 6s 199us/step - loss: 0.0178 - acc: 0.9943 - val_loss: 0.0456 - val_acc: 0.9879\n",
            "Epoch 10/10\n",
            "29399/29399 [==============================] - 6s 199us/step - loss: 0.0165 - acc: 0.9947 - val_loss: 0.0479 - val_acc: 0.9876\n"
          ],
          "name": "stdout"
        },
        {
          "output_type": "execute_result",
          "data": {
            "text/plain": [
              "<keras.callbacks.History at 0x7f299cb99518>"
            ]
          },
          "metadata": {
            "tags": []
          },
          "execution_count": 15
        }
      ]
    },
    {
      "cell_type": "code",
      "metadata": {
        "id": "3Ot6m-pjeB0l",
        "colab_type": "code",
        "colab": {}
      },
      "source": [
        "predictions=classifier.predict(test)"
      ],
      "execution_count": 0,
      "outputs": []
    },
    {
      "cell_type": "code",
      "metadata": {
        "id": "pjQ4yulTdyvN",
        "colab_type": "code",
        "colab": {}
      },
      "source": [
        "lt2=[]\n",
        "x=0.0\n",
        "ind=0\n",
        "for i in range(0,len(predictions)):\n",
        "  lt=[]\n",
        "  lt=list(predictions[i])\n",
        "  x=0\n",
        "  for j in range(0,len(lt)):\n",
        "    if lt[j]>x:\n",
        "      x=lt[j]\n",
        "      ind=j\n",
        "  lt2.append(ind)  \n",
        "\n"
      ],
      "execution_count": 0,
      "outputs": []
    },
    {
      "cell_type": "code",
      "metadata": {
        "id": "LzaQlW5WeH3r",
        "colab_type": "code",
        "colab": {}
      },
      "source": [
        "sample.drop('Label',axis=1,inplace=True)"
      ],
      "execution_count": 0,
      "outputs": []
    },
    {
      "cell_type": "code",
      "metadata": {
        "id": "Az4D_8oReSUk",
        "colab_type": "code",
        "colab": {}
      },
      "source": [
        "sample['Label']=pd.DataFrame(lt2)"
      ],
      "execution_count": 0,
      "outputs": []
    },
    {
      "cell_type": "code",
      "metadata": {
        "id": "h9hhxMd1eXTU",
        "colab_type": "code",
        "colab": {}
      },
      "source": [
        "sample.to_csv('mnist_using_cnn4.csv',index=False)"
      ],
      "execution_count": 0,
      "outputs": []
    },
    {
      "cell_type": "code",
      "metadata": {
        "id": "-I6k7Z68ecnw",
        "colab_type": "code",
        "outputId": "f53c3516-6c06-4ccf-efee-7f4f455a7bf1",
        "colab": {
          "base_uri": "https://localhost:8080/",
          "height": 565
        }
      },
      "source": [
        "!pip install keras-tuner"
      ],
      "execution_count": 0,
      "outputs": [
        {
          "output_type": "stream",
          "text": [
            "Collecting keras-tuner\n",
            "\u001b[?25l  Downloading https://files.pythonhosted.org/packages/a7/f7/4b41b6832abf4c9bef71a664dc563adb25afc5812831667c6db572b1a261/keras-tuner-1.0.1.tar.gz (54kB)\n",
            "\r\u001b[K     |██████                          | 10kB 27.3MB/s eta 0:00:01\r\u001b[K     |████████████                    | 20kB 35.1MB/s eta 0:00:01\r\u001b[K     |██████████████████              | 30kB 41.5MB/s eta 0:00:01\r\u001b[K     |████████████████████████        | 40kB 46.7MB/s eta 0:00:01\r\u001b[K     |██████████████████████████████  | 51kB 50.1MB/s eta 0:00:01\r\u001b[K     |████████████████████████████████| 61kB 10.8MB/s \n",
            "\u001b[?25hRequirement already satisfied: future in /usr/local/lib/python3.6/dist-packages (from keras-tuner) (0.16.0)\n",
            "Requirement already satisfied: numpy in /usr/local/lib/python3.6/dist-packages (from keras-tuner) (1.17.5)\n",
            "Requirement already satisfied: tabulate in /usr/local/lib/python3.6/dist-packages (from keras-tuner) (0.8.6)\n",
            "Collecting terminaltables\n",
            "  Downloading https://files.pythonhosted.org/packages/9b/c4/4a21174f32f8a7e1104798c445dacdc1d4df86f2f26722767034e4de4bff/terminaltables-3.1.0.tar.gz\n",
            "Collecting colorama\n",
            "  Downloading https://files.pythonhosted.org/packages/c9/dc/45cdef1b4d119eb96316b3117e6d5708a08029992b2fee2c143c7a0a5cc5/colorama-0.4.3-py2.py3-none-any.whl\n",
            "Requirement already satisfied: tqdm in /usr/local/lib/python3.6/dist-packages (from keras-tuner) (4.28.1)\n",
            "Requirement already satisfied: requests in /usr/local/lib/python3.6/dist-packages (from keras-tuner) (2.21.0)\n",
            "Requirement already satisfied: scipy in /usr/local/lib/python3.6/dist-packages (from keras-tuner) (1.4.1)\n",
            "Requirement already satisfied: scikit-learn in /usr/local/lib/python3.6/dist-packages (from keras-tuner) (0.22.1)\n",
            "Requirement already satisfied: chardet<3.1.0,>=3.0.2 in /usr/local/lib/python3.6/dist-packages (from requests->keras-tuner) (3.0.4)\n",
            "Requirement already satisfied: idna<2.9,>=2.5 in /usr/local/lib/python3.6/dist-packages (from requests->keras-tuner) (2.8)\n",
            "Requirement already satisfied: urllib3<1.25,>=1.21.1 in /usr/local/lib/python3.6/dist-packages (from requests->keras-tuner) (1.24.3)\n",
            "Requirement already satisfied: certifi>=2017.4.17 in /usr/local/lib/python3.6/dist-packages (from requests->keras-tuner) (2019.11.28)\n",
            "Requirement already satisfied: joblib>=0.11 in /usr/local/lib/python3.6/dist-packages (from scikit-learn->keras-tuner) (0.14.1)\n",
            "Building wheels for collected packages: keras-tuner, terminaltables\n",
            "  Building wheel for keras-tuner (setup.py) ... \u001b[?25l\u001b[?25hdone\n",
            "  Created wheel for keras-tuner: filename=keras_tuner-1.0.1-cp36-none-any.whl size=73200 sha256=9d4104f0c49a220386f056d296bd71fac1b5e182d1e073bbd21b9b79db0a884a\n",
            "  Stored in directory: /root/.cache/pip/wheels/b9/cc/62/52716b70dd90f3db12519233c3a93a5360bc672da1a10ded43\n",
            "  Building wheel for terminaltables (setup.py) ... \u001b[?25l\u001b[?25hdone\n",
            "  Created wheel for terminaltables: filename=terminaltables-3.1.0-cp36-none-any.whl size=15356 sha256=204f09bc24942c7e0abea2149111763d81fb09bced471bcdf712bb88f1ed1d7f\n",
            "  Stored in directory: /root/.cache/pip/wheels/30/6b/50/6c75775b681fb36cdfac7f19799888ef9d8813aff9e379663e\n",
            "Successfully built keras-tuner terminaltables\n",
            "Installing collected packages: terminaltables, colorama, keras-tuner\n",
            "Successfully installed colorama-0.4.3 keras-tuner-1.0.1 terminaltables-3.1.0\n"
          ],
          "name": "stdout"
        }
      ]
    },
    {
      "cell_type": "code",
      "metadata": {
        "id": "1CupLupptRW4",
        "colab_type": "code",
        "colab": {}
      },
      "source": [
        ""
      ],
      "execution_count": 0,
      "outputs": []
    },
    {
      "cell_type": "code",
      "metadata": {
        "id": "0YSCLHOmtU8S",
        "colab_type": "code",
        "colab": {}
      },
      "source": [
        "def build_model(hp):  \n",
        "  model1 = keras.Sequential([\n",
        "    keras.layers.Conv2D(\n",
        "        filters=hp.Int('conv_1_filter', min_value=32, max_value=128, step=16),\n",
        "        kernel_size=hp.Choice('conv_1_kernel', values = [3,5]),\n",
        "        activation='relu',\n",
        "        input_shape=(28,28,1)\n",
        "    ),\n",
        "    keras.layers.Conv2D(\n",
        "        filters=hp.Int('conv_2_filter', min_value=32, max_value=64, step=16),\n",
        "        kernel_size=hp.Choice('conv_2_kernel', values = [3,5]),\n",
        "        activation='relu'\n",
        "    ),\n",
        "    keras.layers.Flatten(),\n",
        "    keras.layers.Dense(\n",
        "        units=hp.Int('dense_1_units', min_value=32, max_value=128, step=16),\n",
        "        activation='relu'\n",
        "    ),\n",
        "    keras.layers.Dense(10, activation='softmax')\n",
        "  ])\n",
        "  \n",
        "  model1.compile(optimizer=keras.optimizers.Adam(hp.Choice('learning_rate', values=[1e-2, 1e-3])),\n",
        "              loss='categorical_crossentropy',\n",
        "              metrics=['accuracy'])\n",
        "  \n",
        "  return model1"
      ],
      "execution_count": 0,
      "outputs": []
    },
    {
      "cell_type": "code",
      "metadata": {
        "id": "gKplX4vmthpq",
        "colab_type": "code",
        "colab": {}
      },
      "source": [
        "from kerastuner import RandomSearch\n",
        "from kerastuner.engine.hyperparameters import HyperParameters"
      ],
      "execution_count": 0,
      "outputs": []
    },
    {
      "cell_type": "code",
      "metadata": {
        "id": "Se0fPk1Ltkja",
        "colab_type": "code",
        "outputId": "bc79d7fa-3a7e-4bc6-e6a0-76da744bf509",
        "colab": {
          "base_uri": "https://localhost:8080/",
          "height": 35
        }
      },
      "source": [
        "tuner_search=RandomSearch(build_model,\n",
        "                          objective='val_acc',\n",
        "                          max_trials=5,directory='output',project_name=\"Mnist\")"
      ],
      "execution_count": 0,
      "outputs": [
        {
          "output_type": "stream",
          "text": [
            "INFO:tensorflow:Reloading Oracle from existing project output/Mnist/oracle.json\n"
          ],
          "name": "stdout"
        }
      ]
    },
    {
      "cell_type": "code",
      "metadata": {
        "id": "niF07DNntpRM",
        "colab_type": "code",
        "outputId": "e842ee2f-2313-42a1-c13a-8cebf386dc58",
        "colab": {
          "base_uri": "https://localhost:8080/",
          "height": 1000
        }
      },
      "source": [
        "tuner_search.search(xtrain,ytrain,epochs=3,validation_split=0.1)"
      ],
      "execution_count": 0,
      "outputs": [
        {
          "output_type": "stream",
          "text": [
            "Train on 37800 samples, validate on 4200 samples\n",
            "Epoch 1/3\n",
            "37800/37800 [==============================] - 10s 268us/sample - loss: 0.2545 - acc: 0.9413 - val_loss: 0.1059 - val_acc: 0.9683\n",
            "Epoch 2/3\n",
            "37800/37800 [==============================] - 10s 264us/sample - loss: 0.1040 - acc: 0.9696 - val_loss: 0.0860 - val_acc: 0.9748\n",
            "Epoch 3/3\n",
            "37800/37800 [==============================] - 10s 262us/sample - loss: 0.0821 - acc: 0.9766 - val_loss: 0.0863 - val_acc: 0.9736\n"
          ],
          "name": "stdout"
        },
        {
          "output_type": "display_data",
          "data": {
            "text/html": [
              "<span style=\"color:#4527A0\"><h1 style=\"font-size:18px\">Trial complete</h1></span>"
            ],
            "text/plain": [
              "<IPython.core.display.HTML object>"
            ]
          },
          "metadata": {
            "tags": []
          }
        },
        {
          "output_type": "display_data",
          "data": {
            "text/html": [
              "<span style=\"color:#4527A0\"><h1 style=\"font-size:18px\">Trial summary</h1></span>"
            ],
            "text/plain": [
              "<IPython.core.display.HTML object>"
            ]
          },
          "metadata": {
            "tags": []
          }
        },
        {
          "output_type": "display_data",
          "data": {
            "text/html": [
              "<span style=\"color:cyan\"> |-Trial ID: 5d075d2d68b5ed5bccec0a9b3eff2583</span>"
            ],
            "text/plain": [
              "<IPython.core.display.HTML object>"
            ]
          },
          "metadata": {
            "tags": []
          }
        },
        {
          "output_type": "display_data",
          "data": {
            "text/html": [
              "<span style=\"color:cyan\"> |-Score: 0.9747619032859802</span>"
            ],
            "text/plain": [
              "<IPython.core.display.HTML object>"
            ]
          },
          "metadata": {
            "tags": []
          }
        },
        {
          "output_type": "display_data",
          "data": {
            "text/html": [
              "<span style=\"color:cyan\"> |-Best step: 0</span>"
            ],
            "text/plain": [
              "<IPython.core.display.HTML object>"
            ]
          },
          "metadata": {
            "tags": []
          }
        },
        {
          "output_type": "display_data",
          "data": {
            "text/html": [
              "<span style=\"color:#7E57C2\"><h2 style=\"font-size:16px\">Hyperparameters:</h2></span>"
            ],
            "text/plain": [
              "<IPython.core.display.HTML object>"
            ]
          },
          "metadata": {
            "tags": []
          }
        },
        {
          "output_type": "display_data",
          "data": {
            "text/html": [
              "<span style=\"color:cyan\"> |-conv_1_filter: 80</span>"
            ],
            "text/plain": [
              "<IPython.core.display.HTML object>"
            ]
          },
          "metadata": {
            "tags": []
          }
        },
        {
          "output_type": "display_data",
          "data": {
            "text/html": [
              "<span style=\"color:blue\"> |-conv_1_kernel: 5</span>"
            ],
            "text/plain": [
              "<IPython.core.display.HTML object>"
            ]
          },
          "metadata": {
            "tags": []
          }
        },
        {
          "output_type": "display_data",
          "data": {
            "text/html": [
              "<span style=\"color:cyan\"> |-conv_2_filter: 64</span>"
            ],
            "text/plain": [
              "<IPython.core.display.HTML object>"
            ]
          },
          "metadata": {
            "tags": []
          }
        },
        {
          "output_type": "display_data",
          "data": {
            "text/html": [
              "<span style=\"color:blue\"> |-conv_2_kernel: 5</span>"
            ],
            "text/plain": [
              "<IPython.core.display.HTML object>"
            ]
          },
          "metadata": {
            "tags": []
          }
        },
        {
          "output_type": "display_data",
          "data": {
            "text/html": [
              "<span style=\"color:cyan\"> |-dense_1_units: 128</span>"
            ],
            "text/plain": [
              "<IPython.core.display.HTML object>"
            ]
          },
          "metadata": {
            "tags": []
          }
        },
        {
          "output_type": "display_data",
          "data": {
            "text/html": [
              "<span style=\"color:blue\"> |-learning_rate: 0.01</span>"
            ],
            "text/plain": [
              "<IPython.core.display.HTML object>"
            ]
          },
          "metadata": {
            "tags": []
          }
        },
        {
          "output_type": "stream",
          "text": [
            "Train on 37800 samples, validate on 4200 samples\n",
            "Epoch 1/3\n",
            "37800/37800 [==============================] - 8s 206us/sample - loss: 0.2038 - acc: 0.9430 - val_loss: 0.0994 - val_acc: 0.9733\n",
            "Epoch 2/3\n",
            "37800/37800 [==============================] - 7s 197us/sample - loss: 0.0973 - acc: 0.9717 - val_loss: 0.0902 - val_acc: 0.9755\n",
            "Epoch 3/3\n",
            "37800/37800 [==============================] - 8s 200us/sample - loss: 0.0862 - acc: 0.9753 - val_loss: 0.1270 - val_acc: 0.9688\n"
          ],
          "name": "stdout"
        },
        {
          "output_type": "display_data",
          "data": {
            "text/html": [
              "<span style=\"color:#4527A0\"><h1 style=\"font-size:18px\">Trial complete</h1></span>"
            ],
            "text/plain": [
              "<IPython.core.display.HTML object>"
            ]
          },
          "metadata": {
            "tags": []
          }
        },
        {
          "output_type": "display_data",
          "data": {
            "text/html": [
              "<span style=\"color:#4527A0\"><h1 style=\"font-size:18px\">Trial summary</h1></span>"
            ],
            "text/plain": [
              "<IPython.core.display.HTML object>"
            ]
          },
          "metadata": {
            "tags": []
          }
        },
        {
          "output_type": "display_data",
          "data": {
            "text/html": [
              "<span style=\"color:cyan\"> |-Trial ID: 1928ef1c8681d5b01851185d0396b8a9</span>"
            ],
            "text/plain": [
              "<IPython.core.display.HTML object>"
            ]
          },
          "metadata": {
            "tags": []
          }
        },
        {
          "output_type": "display_data",
          "data": {
            "text/html": [
              "<span style=\"color:cyan\"> |-Score: 0.9754762053489685</span>"
            ],
            "text/plain": [
              "<IPython.core.display.HTML object>"
            ]
          },
          "metadata": {
            "tags": []
          }
        },
        {
          "output_type": "display_data",
          "data": {
            "text/html": [
              "<span style=\"color:cyan\"> |-Best step: 0</span>"
            ],
            "text/plain": [
              "<IPython.core.display.HTML object>"
            ]
          },
          "metadata": {
            "tags": []
          }
        },
        {
          "output_type": "display_data",
          "data": {
            "text/html": [
              "<span style=\"color:#7E57C2\"><h2 style=\"font-size:16px\">Hyperparameters:</h2></span>"
            ],
            "text/plain": [
              "<IPython.core.display.HTML object>"
            ]
          },
          "metadata": {
            "tags": []
          }
        },
        {
          "output_type": "display_data",
          "data": {
            "text/html": [
              "<span style=\"color:cyan\"> |-conv_1_filter: 64</span>"
            ],
            "text/plain": [
              "<IPython.core.display.HTML object>"
            ]
          },
          "metadata": {
            "tags": []
          }
        },
        {
          "output_type": "display_data",
          "data": {
            "text/html": [
              "<span style=\"color:blue\"> |-conv_1_kernel: 5</span>"
            ],
            "text/plain": [
              "<IPython.core.display.HTML object>"
            ]
          },
          "metadata": {
            "tags": []
          }
        },
        {
          "output_type": "display_data",
          "data": {
            "text/html": [
              "<span style=\"color:cyan\"> |-conv_2_filter: 48</span>"
            ],
            "text/plain": [
              "<IPython.core.display.HTML object>"
            ]
          },
          "metadata": {
            "tags": []
          }
        },
        {
          "output_type": "display_data",
          "data": {
            "text/html": [
              "<span style=\"color:blue\"> |-conv_2_kernel: 3</span>"
            ],
            "text/plain": [
              "<IPython.core.display.HTML object>"
            ]
          },
          "metadata": {
            "tags": []
          }
        },
        {
          "output_type": "display_data",
          "data": {
            "text/html": [
              "<span style=\"color:cyan\"> |-dense_1_units: 96</span>"
            ],
            "text/plain": [
              "<IPython.core.display.HTML object>"
            ]
          },
          "metadata": {
            "tags": []
          }
        },
        {
          "output_type": "display_data",
          "data": {
            "text/html": [
              "<span style=\"color:blue\"> |-learning_rate: 0.01</span>"
            ],
            "text/plain": [
              "<IPython.core.display.HTML object>"
            ]
          },
          "metadata": {
            "tags": []
          }
        },
        {
          "output_type": "stream",
          "text": [
            "Train on 37800 samples, validate on 4200 samples\n",
            "Epoch 1/3\n",
            "37800/37800 [==============================] - 9s 243us/sample - loss: 0.1355 - acc: 0.9585 - val_loss: 0.0552 - val_acc: 0.9807\n",
            "Epoch 2/3\n",
            "37800/37800 [==============================] - 9s 236us/sample - loss: 0.0434 - acc: 0.9865 - val_loss: 0.0573 - val_acc: 0.9800\n",
            "Epoch 3/3\n",
            "37800/37800 [==============================] - 9s 242us/sample - loss: 0.0245 - acc: 0.9920 - val_loss: 0.0572 - val_acc: 0.9810\n"
          ],
          "name": "stdout"
        },
        {
          "output_type": "display_data",
          "data": {
            "text/html": [
              "<span style=\"color:#4527A0\"><h1 style=\"font-size:18px\">Trial complete</h1></span>"
            ],
            "text/plain": [
              "<IPython.core.display.HTML object>"
            ]
          },
          "metadata": {
            "tags": []
          }
        },
        {
          "output_type": "display_data",
          "data": {
            "text/html": [
              "<span style=\"color:#4527A0\"><h1 style=\"font-size:18px\">Trial summary</h1></span>"
            ],
            "text/plain": [
              "<IPython.core.display.HTML object>"
            ]
          },
          "metadata": {
            "tags": []
          }
        },
        {
          "output_type": "display_data",
          "data": {
            "text/html": [
              "<span style=\"color:cyan\"> |-Trial ID: a7f5965fedc16b61889f3f23b61a68bf</span>"
            ],
            "text/plain": [
              "<IPython.core.display.HTML object>"
            ]
          },
          "metadata": {
            "tags": []
          }
        },
        {
          "output_type": "display_data",
          "data": {
            "text/html": [
              "<span style=\"color:cyan\"> |-Score: 0.9809523820877075</span>"
            ],
            "text/plain": [
              "<IPython.core.display.HTML object>"
            ]
          },
          "metadata": {
            "tags": []
          }
        },
        {
          "output_type": "display_data",
          "data": {
            "text/html": [
              "<span style=\"color:cyan\"> |-Best step: 0</span>"
            ],
            "text/plain": [
              "<IPython.core.display.HTML object>"
            ]
          },
          "metadata": {
            "tags": []
          }
        },
        {
          "output_type": "display_data",
          "data": {
            "text/html": [
              "<span style=\"color:#7E57C2\"><h2 style=\"font-size:16px\">Hyperparameters:</h2></span>"
            ],
            "text/plain": [
              "<IPython.core.display.HTML object>"
            ]
          },
          "metadata": {
            "tags": []
          }
        },
        {
          "output_type": "display_data",
          "data": {
            "text/html": [
              "<span style=\"color:cyan\"> |-conv_1_filter: 64</span>"
            ],
            "text/plain": [
              "<IPython.core.display.HTML object>"
            ]
          },
          "metadata": {
            "tags": []
          }
        },
        {
          "output_type": "display_data",
          "data": {
            "text/html": [
              "<span style=\"color:blue\"> |-conv_1_kernel: 3</span>"
            ],
            "text/plain": [
              "<IPython.core.display.HTML object>"
            ]
          },
          "metadata": {
            "tags": []
          }
        },
        {
          "output_type": "display_data",
          "data": {
            "text/html": [
              "<span style=\"color:cyan\"> |-conv_2_filter: 64</span>"
            ],
            "text/plain": [
              "<IPython.core.display.HTML object>"
            ]
          },
          "metadata": {
            "tags": []
          }
        },
        {
          "output_type": "display_data",
          "data": {
            "text/html": [
              "<span style=\"color:blue\"> |-conv_2_kernel: 3</span>"
            ],
            "text/plain": [
              "<IPython.core.display.HTML object>"
            ]
          },
          "metadata": {
            "tags": []
          }
        },
        {
          "output_type": "display_data",
          "data": {
            "text/html": [
              "<span style=\"color:cyan\"> |-dense_1_units: 96</span>"
            ],
            "text/plain": [
              "<IPython.core.display.HTML object>"
            ]
          },
          "metadata": {
            "tags": []
          }
        },
        {
          "output_type": "display_data",
          "data": {
            "text/html": [
              "<span style=\"color:blue\"> |-learning_rate: 0.001</span>"
            ],
            "text/plain": [
              "<IPython.core.display.HTML object>"
            ]
          },
          "metadata": {
            "tags": []
          }
        },
        {
          "output_type": "stream",
          "text": [
            "Train on 37800 samples, validate on 4200 samples\n",
            "Epoch 1/3\n",
            "37800/37800 [==============================] - 7s 196us/sample - loss: 0.3535 - acc: 0.8916 - val_loss: 0.2088 - val_acc: 0.9367\n",
            "Epoch 2/3\n",
            "37800/37800 [==============================] - 7s 188us/sample - loss: 0.1606 - acc: 0.9514 - val_loss: 0.1634 - val_acc: 0.9524\n",
            "Epoch 3/3\n",
            "37800/37800 [==============================] - 7s 188us/sample - loss: 0.1269 - acc: 0.9608 - val_loss: 0.1360 - val_acc: 0.9557\n"
          ],
          "name": "stdout"
        },
        {
          "output_type": "display_data",
          "data": {
            "text/html": [
              "<span style=\"color:#4527A0\"><h1 style=\"font-size:18px\">Trial complete</h1></span>"
            ],
            "text/plain": [
              "<IPython.core.display.HTML object>"
            ]
          },
          "metadata": {
            "tags": []
          }
        },
        {
          "output_type": "display_data",
          "data": {
            "text/html": [
              "<span style=\"color:#4527A0\"><h1 style=\"font-size:18px\">Trial summary</h1></span>"
            ],
            "text/plain": [
              "<IPython.core.display.HTML object>"
            ]
          },
          "metadata": {
            "tags": []
          }
        },
        {
          "output_type": "display_data",
          "data": {
            "text/html": [
              "<span style=\"color:cyan\"> |-Trial ID: 41095656e67b3902f0b1ed98d1590e62</span>"
            ],
            "text/plain": [
              "<IPython.core.display.HTML object>"
            ]
          },
          "metadata": {
            "tags": []
          }
        },
        {
          "output_type": "display_data",
          "data": {
            "text/html": [
              "<span style=\"color:cyan\"> |-Score: 0.9557142853736877</span>"
            ],
            "text/plain": [
              "<IPython.core.display.HTML object>"
            ]
          },
          "metadata": {
            "tags": []
          }
        },
        {
          "output_type": "display_data",
          "data": {
            "text/html": [
              "<span style=\"color:cyan\"> |-Best step: 0</span>"
            ],
            "text/plain": [
              "<IPython.core.display.HTML object>"
            ]
          },
          "metadata": {
            "tags": []
          }
        },
        {
          "output_type": "display_data",
          "data": {
            "text/html": [
              "<span style=\"color:#7E57C2\"><h2 style=\"font-size:16px\">Hyperparameters:</h2></span>"
            ],
            "text/plain": [
              "<IPython.core.display.HTML object>"
            ]
          },
          "metadata": {
            "tags": []
          }
        },
        {
          "output_type": "display_data",
          "data": {
            "text/html": [
              "<span style=\"color:cyan\"> |-conv_1_filter: 80</span>"
            ],
            "text/plain": [
              "<IPython.core.display.HTML object>"
            ]
          },
          "metadata": {
            "tags": []
          }
        },
        {
          "output_type": "display_data",
          "data": {
            "text/html": [
              "<span style=\"color:blue\"> |-conv_1_kernel: 5</span>"
            ],
            "text/plain": [
              "<IPython.core.display.HTML object>"
            ]
          },
          "metadata": {
            "tags": []
          }
        },
        {
          "output_type": "display_data",
          "data": {
            "text/html": [
              "<span style=\"color:cyan\"> |-conv_2_filter: 48</span>"
            ],
            "text/plain": [
              "<IPython.core.display.HTML object>"
            ]
          },
          "metadata": {
            "tags": []
          }
        },
        {
          "output_type": "display_data",
          "data": {
            "text/html": [
              "<span style=\"color:blue\"> |-conv_2_kernel: 3</span>"
            ],
            "text/plain": [
              "<IPython.core.display.HTML object>"
            ]
          },
          "metadata": {
            "tags": []
          }
        },
        {
          "output_type": "display_data",
          "data": {
            "text/html": [
              "<span style=\"color:cyan\"> |-dense_1_units: 32</span>"
            ],
            "text/plain": [
              "<IPython.core.display.HTML object>"
            ]
          },
          "metadata": {
            "tags": []
          }
        },
        {
          "output_type": "display_data",
          "data": {
            "text/html": [
              "<span style=\"color:blue\"> |-learning_rate: 0.01</span>"
            ],
            "text/plain": [
              "<IPython.core.display.HTML object>"
            ]
          },
          "metadata": {
            "tags": []
          }
        },
        {
          "output_type": "stream",
          "text": [
            "Train on 37800 samples, validate on 4200 samples\n",
            "Epoch 1/3\n",
            "37800/37800 [==============================] - 9s 239us/sample - loss: 0.2148 - acc: 0.9410 - val_loss: 0.1401 - val_acc: 0.9598\n",
            "Epoch 2/3\n",
            "37800/37800 [==============================] - 9s 235us/sample - loss: 0.1028 - acc: 0.9702 - val_loss: 0.0940 - val_acc: 0.9717\n",
            "Epoch 3/3\n",
            "37800/37800 [==============================] - 9s 229us/sample - loss: 0.0874 - acc: 0.9748 - val_loss: 0.0967 - val_acc: 0.9755\n"
          ],
          "name": "stdout"
        },
        {
          "output_type": "display_data",
          "data": {
            "text/html": [
              "<span style=\"color:#4527A0\"><h1 style=\"font-size:18px\">Trial complete</h1></span>"
            ],
            "text/plain": [
              "<IPython.core.display.HTML object>"
            ]
          },
          "metadata": {
            "tags": []
          }
        },
        {
          "output_type": "display_data",
          "data": {
            "text/html": [
              "<span style=\"color:#4527A0\"><h1 style=\"font-size:18px\">Trial summary</h1></span>"
            ],
            "text/plain": [
              "<IPython.core.display.HTML object>"
            ]
          },
          "metadata": {
            "tags": []
          }
        },
        {
          "output_type": "display_data",
          "data": {
            "text/html": [
              "<span style=\"color:cyan\"> |-Trial ID: a8a3743ea4492c04e2da49a676b2796c</span>"
            ],
            "text/plain": [
              "<IPython.core.display.HTML object>"
            ]
          },
          "metadata": {
            "tags": []
          }
        },
        {
          "output_type": "display_data",
          "data": {
            "text/html": [
              "<span style=\"color:cyan\"> |-Score: 0.9754762053489685</span>"
            ],
            "text/plain": [
              "<IPython.core.display.HTML object>"
            ]
          },
          "metadata": {
            "tags": []
          }
        },
        {
          "output_type": "display_data",
          "data": {
            "text/html": [
              "<span style=\"color:cyan\"> |-Best step: 0</span>"
            ],
            "text/plain": [
              "<IPython.core.display.HTML object>"
            ]
          },
          "metadata": {
            "tags": []
          }
        },
        {
          "output_type": "display_data",
          "data": {
            "text/html": [
              "<span style=\"color:#7E57C2\"><h2 style=\"font-size:16px\">Hyperparameters:</h2></span>"
            ],
            "text/plain": [
              "<IPython.core.display.HTML object>"
            ]
          },
          "metadata": {
            "tags": []
          }
        },
        {
          "output_type": "display_data",
          "data": {
            "text/html": [
              "<span style=\"color:cyan\"> |-conv_1_filter: 112</span>"
            ],
            "text/plain": [
              "<IPython.core.display.HTML object>"
            ]
          },
          "metadata": {
            "tags": []
          }
        },
        {
          "output_type": "display_data",
          "data": {
            "text/html": [
              "<span style=\"color:blue\"> |-conv_1_kernel: 5</span>"
            ],
            "text/plain": [
              "<IPython.core.display.HTML object>"
            ]
          },
          "metadata": {
            "tags": []
          }
        },
        {
          "output_type": "display_data",
          "data": {
            "text/html": [
              "<span style=\"color:cyan\"> |-conv_2_filter: 32</span>"
            ],
            "text/plain": [
              "<IPython.core.display.HTML object>"
            ]
          },
          "metadata": {
            "tags": []
          }
        },
        {
          "output_type": "display_data",
          "data": {
            "text/html": [
              "<span style=\"color:blue\"> |-conv_2_kernel: 5</span>"
            ],
            "text/plain": [
              "<IPython.core.display.HTML object>"
            ]
          },
          "metadata": {
            "tags": []
          }
        },
        {
          "output_type": "display_data",
          "data": {
            "text/html": [
              "<span style=\"color:cyan\"> |-dense_1_units: 80</span>"
            ],
            "text/plain": [
              "<IPython.core.display.HTML object>"
            ]
          },
          "metadata": {
            "tags": []
          }
        },
        {
          "output_type": "display_data",
          "data": {
            "text/html": [
              "<span style=\"color:blue\"> |-learning_rate: 0.01</span>"
            ],
            "text/plain": [
              "<IPython.core.display.HTML object>"
            ]
          },
          "metadata": {
            "tags": []
          }
        },
        {
          "output_type": "stream",
          "text": [
            "INFO:tensorflow:Oracle triggered exit\n"
          ],
          "name": "stdout"
        }
      ]
    },
    {
      "cell_type": "code",
      "metadata": {
        "id": "Q2lV3NRAtuvU",
        "colab_type": "code",
        "colab": {}
      },
      "source": [
        "model=tuner_search.get_best_models(num_models=1)[0]"
      ],
      "execution_count": 0,
      "outputs": []
    },
    {
      "cell_type": "code",
      "metadata": {
        "id": "qRPGhLKZw9zw",
        "colab_type": "code",
        "outputId": "1dc66413-5074-4715-cc82-97fbad4726c2",
        "colab": {
          "base_uri": "https://localhost:8080/",
          "height": 345
        }
      },
      "source": [
        "model.summary()"
      ],
      "execution_count": 0,
      "outputs": [
        {
          "output_type": "stream",
          "text": [
            "Model: \"sequential\"\n",
            "_________________________________________________________________\n",
            "Layer (type)                 Output Shape              Param #   \n",
            "=================================================================\n",
            "conv2d (Conv2D)              (None, 26, 26, 64)        640       \n",
            "_________________________________________________________________\n",
            "conv2d_1 (Conv2D)            (None, 24, 24, 64)        36928     \n",
            "_________________________________________________________________\n",
            "flatten (Flatten)            (None, 36864)             0         \n",
            "_________________________________________________________________\n",
            "dense (Dense)                (None, 96)                3539040   \n",
            "_________________________________________________________________\n",
            "dense_1 (Dense)              (None, 10)                970       \n",
            "=================================================================\n",
            "Total params: 3,577,578\n",
            "Trainable params: 3,577,578\n",
            "Non-trainable params: 0\n",
            "_________________________________________________________________\n"
          ],
          "name": "stdout"
        }
      ]
    },
    {
      "cell_type": "code",
      "metadata": {
        "id": "iaV6bVh8w_2V",
        "colab_type": "code",
        "outputId": "7f052c12-f753-495b-e84c-fe615bcb7eab",
        "colab": {
          "base_uri": "https://localhost:8080/",
          "height": 328
        }
      },
      "source": [
        "model.fit(xtrain, ytrain, epochs=10, validation_split=0.1, initial_epoch=3)"
      ],
      "execution_count": 0,
      "outputs": [
        {
          "output_type": "stream",
          "text": [
            "Train on 37800 samples, validate on 4200 samples\n",
            "Epoch 4/10\n",
            "37800/37800 [==============================] - 9s 236us/sample - loss: 0.0162 - acc: 0.9949 - val_loss: 0.0563 - val_acc: 0.9833\n",
            "Epoch 5/10\n",
            "37800/37800 [==============================] - 9s 239us/sample - loss: 0.0116 - acc: 0.9960 - val_loss: 0.0788 - val_acc: 0.9826\n",
            "Epoch 6/10\n",
            "37800/37800 [==============================] - 9s 238us/sample - loss: 0.0106 - acc: 0.9966 - val_loss: 0.0644 - val_acc: 0.9864\n",
            "Epoch 7/10\n",
            "37800/37800 [==============================] - 9s 231us/sample - loss: 0.0072 - acc: 0.9975 - val_loss: 0.0720 - val_acc: 0.9831\n",
            "Epoch 8/10\n",
            "37800/37800 [==============================] - 9s 233us/sample - loss: 0.0061 - acc: 0.9980 - val_loss: 0.0678 - val_acc: 0.9850\n",
            "Epoch 9/10\n",
            "37800/37800 [==============================] - 9s 234us/sample - loss: 0.0077 - acc: 0.9977 - val_loss: 0.0715 - val_acc: 0.9840\n",
            "Epoch 10/10\n",
            "37800/37800 [==============================] - 9s 231us/sample - loss: 0.0049 - acc: 0.9985 - val_loss: 0.0863 - val_acc: 0.9840\n"
          ],
          "name": "stdout"
        },
        {
          "output_type": "execute_result",
          "data": {
            "text/plain": [
              "<tensorflow.python.keras.callbacks.History at 0x7f18ae3420b8>"
            ]
          },
          "metadata": {
            "tags": []
          },
          "execution_count": 121
        }
      ]
    },
    {
      "cell_type": "code",
      "metadata": {
        "id": "7gVo2B9lxRoY",
        "colab_type": "code",
        "outputId": "c6488943-bc93-4f38-9ef0-8b4348b9bdaf",
        "colab": {
          "base_uri": "https://localhost:8080/",
          "height": 297
        }
      },
      "source": [
        "import seaborn as sns\n",
        "sns.countplot(train['label'])"
      ],
      "execution_count": 0,
      "outputs": [
        {
          "output_type": "execute_result",
          "data": {
            "text/plain": [
              "<matplotlib.axes._subplots.AxesSubplot at 0x7f291dfc5e10>"
            ]
          },
          "metadata": {
            "tags": []
          },
          "execution_count": 17
        },
        {
          "output_type": "display_data",
          "data": {
            "image/png": "[encoded data removed]",
            "text/plain": [
              "<Figure size 432x288 with 1 Axes>"
            ]
          },
          "metadata": {
            "tags": []
          }
        }
      ]
    },
    {
      "cell_type": "code",
      "metadata": {
        "id": "r0vWz9yT1D1V",
        "colab_type": "code",
        "colab": {}
      },
      "source": [
        ""
      ],
      "execution_count": 0,
      "outputs": []
    }
  ]
}